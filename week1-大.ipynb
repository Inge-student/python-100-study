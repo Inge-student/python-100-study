{
 "cells": [
  {
   "cell_type": "code",
   "execution_count": null,
   "metadata": {},
   "outputs": [],
   "source": [
    "## 学习方法\n",
    "进入心流状态，做题静心调整自己\n",
    "检验学习效果，我学习是锻炼自己思考，考虑问题的思路，如何想透想清楚"
   ]
  },
  {
   "cell_type": "markdown",
   "metadata": {},
   "source": [
    "## 知识点\n",
    "- def hanshuming(canshu):\n",
    "    return jieguo\n",
    "    - 1,当参数为默认值，参数可变时，还有参数的调用：def(2)\n",
    "    - 2,函数名重复时，python没有函数重载的概念，因此会覆盖之前的函数。\n",
    "    - Python中每个文件就代表了一个模块（module），我们在不同的模块中可以有同名的函数，\n",
    "在使用函数的时候我们通过import关键字导入指定的模块就可以区分到底要使用的是哪个模块中的foo函数\n",
    "那python或者说其它语言是不是都有很多文件，很多文件最终组成一个程序，而不是直接把程序写在一个文件中\n",
    "    - 3，if __name__==__main__:\n",
    "如果我们导入的模块除了定义函数之外还中有可以执行代码，那么Python解释器在导入这个模块时就会执行这些代码，事实上我们可能并不希望如此，因此如果我们在模块中编写了执行代码，最好是将这些执行代码放入如下所示的条件中，这样的话除非直接运行该模块，if条件下的这些代码是不会执行的，因为只有直接执行的模块的名字才是\"__main__\"。\n",
    "- 变量作用域\n",
    "    - python执行顺序都是一行一行的吗？但python查找一个变量按照局部作用域，嵌套作用域，全局作用域，内置作用域的顺序进行搜索，"
   ]
  },
  {
   "cell_type": "code",
   "execution_count": null,
   "metadata": {},
   "outputs": [],
   "source": [
    "def huiwenshu(x):\n",
    "    sum=0\n",
    "    sum=sum*10+x%10\n",
    "    x//=10\n",
    "    return sum\n",
    "\n",
    "def sushu(x):\n",
    "    #如果你心理害怕，害怕自己学的一般，害怕自学成不了事，那你就应该努力寻找自学能成事的方法\n",
    "    for i in range(2,int(num**0.5)+1):\n",
    "        if num%i==0:\n",
    "            return False\n",
    "            break\n",
    "        else:\n",
    "            return True\n",
    "def huiwensushu(x):\n",
    "    if def sushu(x) and x==def huiwenshu(x):\n",
    "        \n",
    "        "
   ]
  },
  {
   "cell_type": "code",
   "execution_count": null,
   "metadata": {},
   "outputs": [],
   "source": [
    "## 将8个苹果分成四组每组至少一个苹果有多少种方案\n",
    "\n"
   ]
  },
  {
   "cell_type": "code",
   "execution_count": 7,
   "metadata": {},
   "outputs": [],
   "source": [
    "def jiechen(x):\n",
    "    sum=1\n",
    "    for i in range(1,x+1):\n",
    "        sum*=i\n",
    "    return sum"
   ]
  },
  {
   "cell_type": "code",
   "execution_count": 10,
   "metadata": {},
   "outputs": [
    {
     "name": "stdout",
     "output_type": "stream",
     "text": [
      "0\n",
      "1\n",
      "3\n",
      "6\n",
      "350\n"
     ]
    }
   ],
   "source": [
    "def add(a=0, b=0, c=0):\n",
    "    \"\"\"三个数相加\"\"\"\n",
    "    return a + b + c\n",
    "\n",
    "\n",
    "# 如果没有指定参数那么使用默认值摇两颗色子\n",
    "\n",
    "# 摇三颗色子\n",
    "\n",
    "print(add())\n",
    "print(add(1))\n",
    "print(add(1, 2))\n",
    "print(add(1, 2, 3))\n",
    "# 传递参数时可以不按照设定的顺序进行传递\n",
    "print(add(c=50, a=100, b=200))"
   ]
  },
  {
   "cell_type": "code",
   "execution_count": null,
   "metadata": {},
   "outputs": [],
   "source": []
  },
  {
   "cell_type": "code",
   "execution_count": null,
   "metadata": {},
   "outputs": [],
   "source": []
  }
 ],
 "metadata": {
  "kernelspec": {
   "display_name": "Python 3",
   "language": "python",
   "name": "python3"
  },
  "language_info": {
   "codemirror_mode": {
    "name": "ipython",
    "version": 3
   },
   "file_extension": ".py",
   "mimetype": "text/x-python",
   "name": "python",
   "nbconvert_exporter": "python",
   "pygments_lexer": "ipython3",
   "version": "3.7.6"
  }
 },
 "nbformat": 4,
 "nbformat_minor": 4
}
