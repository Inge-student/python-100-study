{
 "cells": [
  {
   "cell_type": "code",
   "execution_count": null,
   "metadata": {},
   "outputs": [],
   "source": [
    "## 学习方法\n",
    "进入心流状态，做题静心调整自己\n",
    "检验学习效果，我学习是锻炼自己思考，考虑问题的思路，如何想透想清楚"
   ]
  },
  {
   "cell_type": "markdown",
   "metadata": {},
   "source": [
    "## 知识点\n",
    "- def hanshuming(canshu):\n",
    "    return jieguo\n",
    "    - 1,当参数为默认值，参数可变时，还有参数的调用：def(2)\n",
    "    - 2,函数名重复时，python没有函数重载的概念，因此会覆盖之前的函数。\n",
    "    - Python中每个文件就代表了一个模块（module），我们在不同的模块中可以有同名的函数，\n",
    "在使用函数的时候我们通过import关键字导入指定的模块就可以区分到底要使用的是哪个模块中的foo函数\n",
    "那python或者说其它语言是不是都有很多文件，很多文件最终组成一个程序，而不是直接把程序写在一个文件中\n",
    "    - 3，if __name__==__main__:\n",
    "如果我们导入的模块除了定义函数之外还中有可以执行代码，那么Python解释器在导入这个模块时就会执行这些代码，事实上我们可能并不希望如此，因此如果我们在模块中编写了执行代码，最好是将这些执行代码放入如下所示的条件中，这样的话除非直接运行该模块，if条件下的这些代码是不会执行的，因为只有直接执行的模块的名字才是\"__main__\"。\n",
    "- 变量作用域\n",
    "    - 变量的查找顺序。python执行顺序都是一行一行的吗？但python查找一个变量按照局部作用域，嵌套作用域，全局作用域，内置作用域的顺序进行搜索，但当这3个部分中都定义了同一个变量a后，虽然肉眼看起来是一样的，但是其实是不同的变量了。\n",
    "    - 变量的修改，global，nonlocal，依次修改全局作用域和嵌套作用域"
   ]
  },
  {
   "cell_type": "markdown",
   "metadata": {},
   "source": [
    "## 字符串，列表，元组，集合，字典用法的相同点\n",
    "- 存增删改查取\n",
    "    - 字符串,比如我们修改密码，用户名\n",
    "        - 存：手动输入，转义字符\\n,\\\\,r'\\n'\n",
    "        - 增：+，*，排版，str.center，str.rjust(),\n",
    "        - 删：\n",
    "        - 改：大小写，str.upper(),str.capitalize(),str.title(),\n",
    "        - 查：in ,len(),str.fing/index(), str.starswith()/endswith(), str.isdigist()/isalpha()/isalnum ,str.strp(）\n",
    "        - 取，【】切片取数\n",
    "    - 列表，\n",
    "        - 存：\n",
    "        - 增：+,*，append()/insert(index,要加入的数)\n",
    "        - 删：remove(num), pop(index), list.clear()\n",
    "        - 改：list[1]='你要改成的值'\n",
    "        - 查：len(), in ,\n",
    "        - 取：【】切片取数，遍历，enumerate(list)，可用切片进行复制\n",
    "    - 元组，\n",
    "        - 存：\n",
    "        - 增：\n",
    "        - 删：\n",
    "        - 改：\n",
    "        - 查：\n",
    "        - 取：\n",
    "    - 集合，\n",
    "        - 存：\n",
    "        - 增：\n",
    "        - 删：\n",
    "        - 改：\n",
    "        - 查：\n",
    "        - 取：\n",
    "    - 字典，\n",
    "        - 存：\n",
    "        - 增：\n",
    "        - 删：\n",
    "        - 改：\n",
    "        - 查：\n",
    "        - 取：\n",
    "- 特殊用法合集\n",
    "    - 列表，excel可以对列数据进行排序\n",
    "        - 排序：sorted(list,key=)/list.sort(reverse=True),给列表对象发出排序消息直接在列表对象上进行排序"
   ]
  },
  {
   "cell_type": "code",
   "execution_count": null,
   "metadata": {},
   "outputs": [],
   "source": [
    "f = [x + y for x in 'ABCDE' for y in '1234567']\n",
    "print(f)\n",
    "# 用列表的生成表达式语法创建列表容器\n",
    "# 用这种语法创建列表之后元素已经准备就绪所以需要耗费较多的内存空间\n",
    "f = [x ** 2 for x in range(1, 1000)]\n",
    "print(sys.getsizeof(f))  # 查看对象占用内存的字节数\n",
    "print(f)\n",
    "# 请注意下面的代码创建的不是一个列表而是一个生成器对象\n",
    "# 通过生成器可以获取到数据但它不占用额外的空间存储数据\n",
    "# 每次需要数据的时候就通过内部的运算得到数据(需要花费额外的时间)\n",
    "f = (x ** 2 for x in range(1, 1000))\n",
    "print(sys.getsizeof(f))  # 相比生成式生成器不占用存储数据的空间\n",
    "print(f)\n",
    "for val in f:\n",
    "    print(val)"
   ]
  },
  {
   "cell_type": "code",
   "execution_count": 17,
   "metadata": {},
   "outputs": [
    {
     "name": "stdout",
     "output_type": "stream",
     "text": [
      "['orange', 'apple', 'zoo', 'internationalization', 'blueberry']\n",
      "['apple', 'blueberry', 'internationalization', 'orange', 'zoo']\n",
      "['zoo', 'orange', 'internationalization', 'blueberry', 'apple']\n",
      "['zoo', 'apple', 'orange', 'blueberry', 'internationalization']\n",
      "['zoo', 'orange', 'internationalization', 'blueberry', 'apple']\n"
     ]
    }
   ],
   "source": [
    "list1 = ['orange', 'apple', 'zoo', 'internationalization', 'blueberry']\n",
    "list2 = sorted(list1)\n",
    "# sorted函数返回列表排序后的拷贝不会修改传入的列表\n",
    "# 函数的设计就应该像sorted函数一样尽可能不产生副作用\n",
    "list3 = sorted(list1, reverse=True)\n",
    "# 通过key关键字参数指定根据字符串长度进行排序而不是默认的字母表顺序\n",
    "list4 = sorted(list1, key=len)\n",
    "print(list1)\n",
    "print(list2)\n",
    "print(list3)\n",
    "print(list4)\n",
    "# 给列表对象发出排序消息直接在列表对象上进行排序\n",
    "list1.sort(reverse=True)\n",
    "print(list1) "
   ]
  },
  {
   "cell_type": "code",
   "execution_count": 14,
   "metadata": {},
   "outputs": [
    {
     "name": "stdout",
     "output_type": "stream",
     "text": [
      "['apple', 'strawberry', 'waxberry']\n",
      "['grape', 'apple', 'strawberry', 'waxberry', 'pitaya', 'pear', 'mango']\n",
      "['pitaya', 'pear']\n",
      "['mango', 'pear', 'pitaya', 'waxberry', 'strawberry', 'apple', 'grape']\n"
     ]
    }
   ],
   "source": [
    "fruits = ['grape', 'apple', 'strawberry', 'waxberry']\n",
    "fruits += ['pitaya', 'pear', 'mango']\n",
    "# 列表切片\n",
    "fruits2 = fruits[1:4]\n",
    "print(fruits2) # apple strawberry waxberry\n",
    "# 可以通过完整切片操作来复制列表\n",
    "fruits3 = fruits[:]\n",
    "print(fruits3) # ['grape', 'apple', 'strawberry', 'waxberry', 'pitaya', 'pear', 'mango']\n",
    "fruits4 = fruits[-3:-1]\n",
    "print(fruits4) # ['pitaya', 'pear']\n",
    "# 可以通过反向切片操作来获得倒转后的列表的拷贝\n",
    "fruits5 = fruits[::-1]\n",
    "print(fruits5) # ['mango', 'pear', 'pitaya', 'waxberry', 'strawberry', 'apple', 'grape']"
   ]
  },
  {
   "cell_type": "code",
   "execution_count": 13,
   "metadata": {},
   "outputs": [
    {
     "name": "stdout",
     "output_type": "stream",
     "text": [
      "[1, 3, 5, 7, 100, 200]\n",
      "[1, 3, 5, 7, 100, 400, 200]\n",
      "[1, 3, 5, 7, 100, 400, 200, 1000, 2000]\n",
      "9\n",
      "[1, 5, 7, 100, 400, 200, 1000, 2000]\n",
      "[5, 7, 100, 400, 200, 1000]\n",
      "[]\n"
     ]
    }
   ],
   "source": [
    "list1 = [1, 3, 5, 7, 100]\n",
    "# 添加元素\n",
    "list1.append(200)\n",
    "print(list1)\n",
    "list1.insert(5, 400)#5是指Index\n",
    "print(list1)\n",
    "# 合并两个列表\n",
    "# list1.extend([1000, 2000])\n",
    "list1 += [1000, 2000]\n",
    "print(list1) # [1, 400, 3, 5, 7, 100, 200, 1000, 2000]\n",
    "print(len(list1)) # 9\n",
    "# 先通过成员运算判断元素是否在列表中，如果存在就删除该元素\n",
    "if 3 in list1:\n",
    "\tlist1.remove(3)\n",
    "if 1234 in list1:\n",
    "    list1.remove(1234)\n",
    "print(list1) # [1, 400, 5, 7, 100, 200, 1000, 2000]\n",
    "# 从指定的位置删除元素\n",
    "list1.pop(0)\n",
    "list1.pop(len(list1) - 1)\n",
    "print(list1) # [400, 5, 7, 100, 200, 1000]\n",
    "# 清空列表元素\n",
    "list1.clear()\n",
    "print(list1) # []"
   ]
  },
  {
   "cell_type": "code",
   "execution_count": null,
   "metadata": {},
   "outputs": [],
   "source": [
    "def huiwenshu(x):\n",
    "    sum=0\n",
    "    sum=sum*10+x%10\n",
    "    x//=10\n",
    "    return sum\n",
    "\n",
    "def sushu(x):\n",
    "    #如果你心理害怕，害怕自己学的一般，害怕自学成不了事，那你就应该努力寻找自学能成事的方法\n",
    "    for i in range(2,int(num**0.5)+1):\n",
    "        if num%i==0:\n",
    "            return False\n",
    "            break\n",
    "        else:\n",
    "            return True\n",
    "def huiwensushu(x):\n",
    "    if def sushu(x) and x==def huiwenshu(x):\n",
    "        \n",
    "        "
   ]
  },
  {
   "cell_type": "code",
   "execution_count": null,
   "metadata": {},
   "outputs": [],
   "source": [
    "## 将8个苹果分成四组每组至少一个苹果有多少种方案\n",
    "\n"
   ]
  },
  {
   "cell_type": "code",
   "execution_count": 7,
   "metadata": {},
   "outputs": [],
   "source": [
    "def jiechen(x):\n",
    "    sum=1\n",
    "    for i in range(1,x+1):\n",
    "        sum*=i\n",
    "    return sum"
   ]
  },
  {
   "cell_type": "code",
   "execution_count": 10,
   "metadata": {},
   "outputs": [
    {
     "name": "stdout",
     "output_type": "stream",
     "text": [
      "0\n",
      "1\n",
      "3\n",
      "6\n",
      "350\n"
     ]
    }
   ],
   "source": [
    "def add(a=0, b=0, c=0):\n",
    "    \"\"\"三个数相加\"\"\"\n",
    "    return a + b + c\n",
    "\n",
    "\n",
    "# 如果没有指定参数那么使用默认值摇两颗色子\n",
    "\n",
    "# 摇三颗色子\n",
    "\n",
    "print(add())\n",
    "print(add(1))\n",
    "print(add(1, 2))\n",
    "print(add(1, 2, 3))\n",
    "# 传递参数时可以不按照设定的顺序进行传递\n",
    "print(add(c=50, a=100, b=200))"
   ]
  },
  {
   "cell_type": "code",
   "execution_count": null,
   "metadata": {},
   "outputs": [],
   "source": [
    "## 在屏幕上显示跑马灯文字。\n",
    "import os\n",
    "import time\n",
    "\n",
    "def main():\n",
    "    concent='北京欢迎你为你开天辟地…………'\n",
    "    while True:\n",
    "    #清理屏幕上的输出\n",
    "        os.system('clear')\n",
    "        print(concent)\n",
    "        time.sleep(0.2)\n",
    "        concent=concent[1:]+concent[0]#为什么要有这个操作呢\n",
    "if __name__=='__main__':\n",
    "    main()\n",
    "##设计一个函数产生指定长度的验证码，验证码由大小写字母和数字构成。"
   ]
  },
  {
   "cell_type": "code",
   "execution_count": null,
   "metadata": {},
   "outputs": [],
   "source": [
    "## 设计一个函数产生指定长度的验证码，验证码由大小写字母和数字构成\n",
    "import random\n",
    "\n",
    "def yanzhengma():\n",
    "    \n",
    "    "
   ]
  },
  {
   "cell_type": "code",
   "execution_count": 3,
   "metadata": {},
   "outputs": [
    {
     "name": "stdout",
     "output_type": "stream",
     "text": [
      "'hello, world!' \n",
      "\\hello, world!\\\n",
      "abcabc 骆昊\n",
      "\\'hello, world!\\' \\n\\\\hello, world!\\\\\\n"
     ]
    }
   ],
   "source": [
    "s1 = '\\'hello, world!\\''\n",
    "s2 = '\\n\\\\hello, world!\\\\\\n'\n",
    "print(s1, s2, end='')\n",
    "\n",
    "s1 = '\\141\\142\\143\\x61\\x62\\x63'\n",
    "s2 = '\\u9a86\\u660a'\n",
    "print(s1, s2)\n",
    "\n",
    "s1 = r'\\'hello, world!\\''\n",
    "s2 = r'\\n\\\\hello, world!\\\\\\n'\n",
    "print(s1, s2, end='')"
   ]
  },
  {
   "cell_type": "code",
   "execution_count": 10,
   "metadata": {},
   "outputs": [
    {
     "name": "stdout",
     "output_type": "stream",
     "text": [
      "hello hello hello \n",
      "hello hello hello world\n",
      "True\n",
      "False\n",
      "c\n",
      "c12\n",
      "c123456\n",
      "c246\n",
      "ac246\n",
      "654321cba\n",
      "45\n"
     ]
    }
   ],
   "source": [
    "s1 = 'hello ' * 3\n",
    "print(s1) \n",
    "s2 = 'world'\n",
    "s1 += s2 \n",
    "print(s1) #hellohellohelloworld\n",
    "print('ll' in s1) \n",
    "print('good' in s1) \n",
    "str2 = 'abc123456'\n",
    "\n",
    "print(str2[2]) #c\n",
    "\n",
    "print(str2[2:5])#c123\n",
    "print(str2[2:]) #\n",
    "print(str2[2::2])#c246 \n",
    "print(str2[::2]) # ac246\n",
    "print(str2[::-1]) # 654321cba\n",
    "print(str2[-3:-1]) # 321cba"
   ]
  },
  {
   "cell_type": "code",
   "execution_count": 5,
   "metadata": {},
   "outputs": [
    {
     "name": "stdout",
     "output_type": "stream",
     "text": [
      "13\n",
      "Hello, world!\n",
      "Hello, World!\n",
      "HELLO, WORLD!\n",
      "8\n",
      "-1\n",
      "False\n",
      "True\n",
      "True\n",
      "******************hello, world!*******************\n",
      "                                     hello, world!\n",
      "False\n",
      "False\n",
      "True\n",
      "  jackfrued@126.com \n",
      "jackfrued@126.com\n"
     ]
    }
   ],
   "source": [
    "str1 = 'hello, world!'\n",
    "\n",
    "print(len(str1)) #len()求字符串的长度\n",
    "\n",
    "print(str1.capitalize()) #将第一个首字母大写\n",
    "\n",
    "print(str1.title()) #将每个字母首字母大写\n",
    "\n",
    "print(str1.upper()) #a.upper() 全部大写\n",
    "# 从字符串中查找子串所在位置\n",
    "print(str1.find('or')) #是判断函数\n",
    "print(str1.find('shit')) \n",
    "# 与find类似但找不到子串时会引发异常\n",
    "# print(str1.index('or'))\n",
    "# print(str1.index('shit'))\n",
    "# a.starswitch()\n",
    "print(str1.startswith('He')) \n",
    "print(str1.startswith('hel')) # \n",
    "#\n",
    "print(str1.endswith('!')) #\n",
    "# 将字符串据中且以指定的字符长度填充周围\n",
    "print(str1.center(50, '*'))\n",
    "# 将字符串向右靠且左边以指定的长度填充左边\n",
    "print(str1.rjust(50, ' '))\n",
    "#rjust?天次50个空格\n",
    "str2 = 'abc123456'\n",
    "# a.isdigit() 字符串是否由数字组成\n",
    "print(str2.isdigit())  # \n",
    "# a.isalpha() 字符串是否由字母构成\n",
    "print(str2.isalpha())  # \n",
    "# a.isalnum 判断是否由字母和数字组成\n",
    "print(str2.isalnum())  # \n",
    "str3 = '  jackfrued@126.com '\n",
    "print(str3)\n",
    "# 获得字符串修剪左右两侧空格之后的拷贝\n",
    "print(str3.strip())"
   ]
  },
  {
   "cell_type": "code",
   "execution_count": 9,
   "metadata": {},
   "outputs": [
    {
     "name": "stdout",
     "output_type": "stream",
     "text": [
      "5 * 10 = 50\n",
      "5 * 10 = 50\n"
     ]
    },
    {
     "ename": "AttributeError",
     "evalue": "'int' object has no attribute 'type'",
     "output_type": "error",
     "traceback": [
      "\u001b[1;31m---------------------------------------------------------------------------\u001b[0m",
      "\u001b[1;31mAttributeError\u001b[0m                            Traceback (most recent call last)",
      "\u001b[1;32m<ipython-input-9-d12efaa28112>\u001b[0m in \u001b[0;36m<module>\u001b[1;34m\u001b[0m\n\u001b[0;32m      4\u001b[0m \u001b[0ma\u001b[0m\u001b[1;33m,\u001b[0m \u001b[0mb\u001b[0m \u001b[1;33m=\u001b[0m \u001b[1;36m5\u001b[0m\u001b[1;33m,\u001b[0m \u001b[1;36m10\u001b[0m\u001b[1;33m\u001b[0m\u001b[1;33m\u001b[0m\u001b[0m\n\u001b[0;32m      5\u001b[0m \u001b[0mprint\u001b[0m\u001b[1;33m(\u001b[0m\u001b[1;34m'{0} * {1} = {2}'\u001b[0m\u001b[1;33m.\u001b[0m\u001b[0mformat\u001b[0m\u001b[1;33m(\u001b[0m\u001b[0ma\u001b[0m\u001b[1;33m,\u001b[0m \u001b[0mb\u001b[0m\u001b[1;33m,\u001b[0m \u001b[0ma\u001b[0m \u001b[1;33m*\u001b[0m \u001b[0mb\u001b[0m\u001b[1;33m)\u001b[0m\u001b[1;33m)\u001b[0m\u001b[1;33m\u001b[0m\u001b[1;33m\u001b[0m\u001b[0m\n\u001b[1;32m----> 6\u001b[1;33m \u001b[0ma\u001b[0m\u001b[1;33m.\u001b[0m\u001b[0mtype\u001b[0m\u001b[1;33m(\u001b[0m\u001b[1;33m)\u001b[0m\u001b[1;33m\u001b[0m\u001b[1;33m\u001b[0m\u001b[0m\n\u001b[0m",
      "\u001b[1;31mAttributeError\u001b[0m: 'int' object has no attribute 'type'"
     ]
    }
   ],
   "source": [
    "a, b = 5, 10\n",
    "print('%d * %d = %d' % (a, b, a * b))\n",
    "\n",
    "a, b = 5, 10\n",
    "print('{0} * {1} = {2}'.format(a, b, a * b))\n"
   ]
  },
  {
   "cell_type": "code",
   "execution_count": 16,
   "metadata": {},
   "outputs": [
    {
     "name": "stdout",
     "output_type": "stream",
     "text": [
      "[1, 3, 5, 7, 100]\n",
      "['hello', 'hello', 'hello']\n",
      "5\n",
      "1\n",
      "100\n",
      "100\n",
      "[5, 7]\n",
      "[1, 3, 300, 7, 100]\n",
      "1\n",
      "3\n",
      "300\n",
      "7\n",
      "100\n",
      "1\n",
      "3\n",
      "300\n",
      "7\n",
      "100\n",
      "0 1\n",
      "1 3\n",
      "2 300\n",
      "3 7\n",
      "4 100\n"
     ]
    }
   ],
   "source": [
    "list1 = [1, 3, 5, 7, 100]\n",
    "print(list1) # [1, 3, 5, 7, 100]\n",
    "# 乘号表示列表元素的重复\n",
    "list2 = ['hello'] * 3\n",
    "print(list2) # ['hello', 'hello', 'hello']\n",
    "# 计算列表长度(元素个数)\n",
    "print(len(list1)) # 5\n",
    "# 下标(索引)运算\n",
    "print(list1[0]) # 1\n",
    "print(list1[4]) # 100\n",
    "# print(list1[5])  # IndexError: list index out of range\n",
    "print(list1[-1]) # 100\n",
    "print(list1[-3:-1]) # 5\n",
    "list1[2] = 300\n",
    "print(list1) # [1, 3, 300, 7, 100]\n",
    "# 通过循环用下标遍历列表元素\n",
    "for index in range(len(list1)):\n",
    "    print(list1[index])#通过切分取出来\n",
    "# 通过for循环遍历列表元素\n",
    "for elem in list1:#直接遍历列表，我又掌握了for...in的用法\n",
    "    print(elem)\n",
    "# 通过enumerate函数处理列表之后再遍历可以同时获得元素索引和值\n",
    "for index, elem in enumerate(list1):\n",
    "    print(index, elem)"
   ]
  }
 ],
 "metadata": {
  "kernelspec": {
   "display_name": "Python 3",
   "language": "python",
   "name": "python3"
  },
  "language_info": {
   "codemirror_mode": {
    "name": "ipython",
    "version": 3
   },
   "file_extension": ".py",
   "mimetype": "text/x-python",
   "name": "python",
   "nbconvert_exporter": "python",
   "pygments_lexer": "ipython3",
   "version": "3.7.6"
  }
 },
 "nbformat": 4,
 "nbformat_minor": 4
}
