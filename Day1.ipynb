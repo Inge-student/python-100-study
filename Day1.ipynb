{
 "cells": [
  {
   "attachments": {
    "image.png": {
     "image/png": "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"
    }
   },
   "cell_type": "markdown",
   "metadata": {},
   "source": [
    "# 学习使用GitHub Desktop（Window）\n",
    "- 注册Github 账号\n",
    "- 下载Github destop\n",下载链接 https://desktop.github.com/
    "    - 版本管理，仓库管理\n",
    "    - 创建、克隆或加载本地已有仓库的选项。 \n",
    "        - clone a repository\n",
    "        - creat a repository\n",
    "            - python-100-study就是我创造的我repository\n",
    "        - add local reposotory\n",
    "    - 添加文件\n",
    "        - 没找到什么可以直接添加的按键，我就直接将需要填加的文件放到GitHub仓库目录文件夹（我这里就是python-100-study)下了，这是可行的。python-100-study文件夹在本地的目录.\n",
    "    - 代码/文件 上传\n",
    "        - 在左下方头像框那里-summary中，输入些这次操作意义信息，description可写可不写\n",
    "        - 点击下方commit to master。就可以将修改保存。\n",
    "        - 点击push to origin\n",
    "        - ![image.png](attachment:image.png)\n",
    "        - 疑问：为什么会出现两个Day1 文件，而且这两个文件都有一样的内容\n",
    "- 下载git (并不是一定要下载），我这里就不下载了\n",
    "- python 环境创建\n",
    "    - 我这里选用Anaconda\n",下载链接 https://mirrors.tuna.tsinghua.edu.cn/anaconda/archive/
    "    - 后期jupyter 中做了改变后，只需要重新双传Day1,云端代码就会同步跟新，同时改变后的Day1会在github desktop中显示"
   ]
  },
  {
   "cell_type": "code",
   "execution_count": 1,
   "metadata": {},
   "outputs": [
    {
     "name": "stdout",
     "output_type": "stream",
     "text": [
      "The Zen of Python, by Tim Peters\n",
      "\n",
      "Beautiful is better than ugly.\n",
      "Explicit is better than implicit.\n",
      "Simple is better than complex.\n",
      "Complex is better than complicated.\n",
      "Flat is better than nested.\n",
      "Sparse is better than dense.\n",
      "Readability counts.\n",
      "Special cases aren't special enough to break the rules.\n",
      "Although practicality beats purity.\n",
      "Errors should never pass silently.\n",
      "Unless explicitly silenced.\n",
      "In the face of ambiguity, refuse the temptation to guess.\n",
      "There should be one-- and preferably only one --obvious way to do it.\n",
      "Although that way may not be obvious at first unless you're Dutch.\n",
      "Now is better than never.\n",
      "Although never is often better than *right* now.\n",
      "If the implementation is hard to explain, it's a bad idea.\n",
      "If the implementation is easy to explain, it may be a good idea.\n",
      "Namespaces are one honking great idea -- let's do more of those!\n"
     ]
    }
   ],
   "source": [
    "import this  #在pythond的交互式环境中可以看到Tim Peter撰写的‘python之禅’\n",
    "#里面的道理不仅仅适用于python，还适用于其它语言"
   ]
  },
  {
   "cell_type": "code",
   "execution_count": 11,
   "metadata": {},
   "outputs": [],
   "source": [
    "#学习使用tuttle绘制图形\n",
    "import turtle\n",
    "\n",
    "turtle.pensize(4)\n",
    "turtle.pencolor('red')\n",
    "\n",
    "turtle.forward(100)\n",
    "turtle.right(90)\n",
    "turtle.forward(100)\n",
    "turtle.right(90)\n",
    "\n",
    "\n",
    "turtle.mainloop()"
   ]
  },
  {
   "cell_type": "markdown",
   "metadata": {},
   "source": [
    "# import turtle后未出现响应\n",
    "- 解决方法: \n",
    "    - 使用完后，在结尾添加turtle.done() /turtle.mainloop()   "
   ]
  }
 ],
 "metadata": {
  "kernelspec": {
   "display_name": "Python 3",
   "language": "python",
   "name": "python3"
  },
  "language_info": {
   "codemirror_mode": {
    "name": "ipython",
    "version": 3
   },
   "file_extension": ".py",
   "mimetype": "text/x-python",
   "name": "python",
   "nbconvert_exporter": "python",
   "pygments_lexer": "ipython3",
   "version": "3.7.6"
  }
 },
 "nbformat": 4,
 "nbformat_minor": 4
}
