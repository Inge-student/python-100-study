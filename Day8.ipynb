{
 "cells": [
  {
   "cell_type": "markdown",
   "metadata": {},
   "source": [
    "# 面向对象编程\n",
    "- 含义： \n",
    "    - 把一组数据结构和处理他们的方法组成对象，把相同行为的对象归纳为类，通过类的封装隐藏内部细节，通过继承实现类的特化和泛化，通过多态实现基于对象的动态分派。\n",
    "- 类和对象\n",
    "    - 对象是具体的东西，而类是抽象的概念，对象有自己的属性和行为，每个对象都是独一无二的，而且对象一定属于某个类。当我们把一大推拥有共同特征的对象的静态属性和动态行为都抽取出来，就可以定义一个叫做“类”的对象\n",
    "    - 定义类\n",
    "        - class\n",
    "- 创建和使用对象\n",
    "- 访问可见性问题\n",
    "    - python中。属性和方法的访问权限只有2种，就是公开和私有的，如果希望属性是私有的，在给属性命名时，可以用双下划线作为开头\n",
    "    - 然而实际开发中，我们都是让属性名以单下划线开头表示属性是受保护的，本类之外的代码在访问这样的属性时应保持慎重。这种做法并表示语法上的规则，而且外界仍然可以访问，所以它更多时候是一种暗示或隐喻"
   ]
  },
  {
   "cell_type": "code",
   "execution_count": 7,
   "metadata": {},
   "outputs": [
    {
     "name": "stdout",
     "output_type": "stream",
     "text": [
      "小心超人正在学习python程序设计\n",
      "小心超人只能观看《熊出没》\n",
      "伽罗正在学习思想品质\n",
      "伽罗正在观看岛国爱情大电影\n"
     ]
    }
   ],
   "source": [
    "class Student(object):\n",
    "    def __init__(self,name,age):\n",
    "        self.name = name\n",
    "        self.age = age\n",
    "    #__init__是一个特殊方法用在创建对象进行初始化操作\n",
    "    #通过这个方法我们可以为学生对象绑定name和age两个属性\n",
    "        \n",
    "    def study(self,course_name):\n",
    "        print('%s正在学习%s'%(self.name,course_name))\n",
    "    #PEP的要求是标识符为多个单词时要用全小写，用下划线连接\n",
    "    #但是部分公司和程序员更倾向使用驼峰标识\n",
    "        \n",
    "    def Watch_Movie(self):\n",
    "        if self.age<18:\n",
    "            print('%s只能观看《熊出没》'%self.name)\n",
    "        else:\n",
    "            print('%s正在观看岛国爱情大电影'%self.name)\n",
    "#写在类中的函数，我们通常称之为对象的方法，这些方法是对象可以接受到的信息\n",
    "\n",
    "def main():\n",
    "    #场景学生对象并指定姓名和年龄\n",
    "    stu1 = Student('小心超人',14)\n",
    "    #给对象发study消息\n",
    "    stu1.study('python程序设计')\n",
    "    #给对象发watch_movie消息\n",
    "    stu1.Watch_Movie()\n",
    "    stu2 = Student('伽罗',300)\n",
    "    stu2.study('思想品质')\n",
    "    stu2.Watch_Movie()\n",
    "    \n",
    "if __name__=='__main__':\n",
    "    main()"
   ]
  },
  {
   "cell_type": "code",
   "execution_count": 9,
   "metadata": {},
   "outputs": [
    {
     "ename": "AttributeError",
     "evalue": "'Test' object has no attribute '__bar'",
     "output_type": "error",
     "traceback": [
      "\u001b[1;31m---------------------------------------------------------------------------\u001b[0m",
      "\u001b[1;31mAttributeError\u001b[0m                            Traceback (most recent call last)",
      "\u001b[1;32m<ipython-input-9-4833e79ca1f4>\u001b[0m in \u001b[0;36m<module>\u001b[1;34m\u001b[0m\n\u001b[0;32m     13\u001b[0m \u001b[1;33m\u001b[0m\u001b[0m\n\u001b[0;32m     14\u001b[0m \u001b[1;32mif\u001b[0m \u001b[0m__name__\u001b[0m\u001b[1;33m==\u001b[0m\u001b[1;34m'__main__'\u001b[0m\u001b[1;33m:\u001b[0m\u001b[1;33m\u001b[0m\u001b[1;33m\u001b[0m\u001b[0m\n\u001b[1;32m---> 15\u001b[1;33m     \u001b[0mmain\u001b[0m\u001b[1;33m(\u001b[0m\u001b[1;33m)\u001b[0m\u001b[1;33m\u001b[0m\u001b[1;33m\u001b[0m\u001b[0m\n\u001b[0m\u001b[0;32m     16\u001b[0m \u001b[1;33m\u001b[0m\u001b[0m\n",
      "\u001b[1;32m<ipython-input-9-4833e79ca1f4>\u001b[0m in \u001b[0;36mmain\u001b[1;34m()\u001b[0m\n\u001b[0;32m      9\u001b[0m \u001b[1;32mdef\u001b[0m \u001b[0mmain\u001b[0m\u001b[1;33m(\u001b[0m\u001b[1;33m)\u001b[0m\u001b[1;33m:\u001b[0m\u001b[1;33m\u001b[0m\u001b[1;33m\u001b[0m\u001b[0m\n\u001b[0;32m     10\u001b[0m     \u001b[0mtest\u001b[0m \u001b[1;33m=\u001b[0m \u001b[0mTest\u001b[0m\u001b[1;33m(\u001b[0m\u001b[1;34m'hello'\u001b[0m\u001b[1;33m)\u001b[0m\u001b[1;33m\u001b[0m\u001b[1;33m\u001b[0m\u001b[0m\n\u001b[1;32m---> 11\u001b[1;33m     \u001b[0mtest\u001b[0m\u001b[1;33m.\u001b[0m\u001b[0m__bar\u001b[0m\u001b[1;33m(\u001b[0m\u001b[1;33m)\u001b[0m\u001b[1;33m\u001b[0m\u001b[1;33m\u001b[0m\u001b[0m\n\u001b[0m\u001b[0;32m     12\u001b[0m     \u001b[0mprint\u001b[0m\u001b[1;33m(\u001b[0m\u001b[0mtest\u001b[0m\u001b[1;33m.\u001b[0m\u001b[0m__foo\u001b[0m\u001b[1;33m)\u001b[0m\u001b[1;33m\u001b[0m\u001b[1;33m\u001b[0m\u001b[0m\n\u001b[0;32m     13\u001b[0m \u001b[1;33m\u001b[0m\u001b[0m\n",
      "\u001b[1;31mAttributeError\u001b[0m: 'Test' object has no attribute '__bar'"
     ]
    }
   ],
   "source": [
    "class Test:\n",
    "    def __init__(self,foo):\n",
    "        self.__foo = foo\n",
    "        \n",
    "    def __bar(self):\n",
    "        print(self.__foo)\n",
    "        print('__bar')\n",
    "    \n",
    "def main():\n",
    "    test = Test('hello')\n",
    "    test.__bar()\n",
    "    print(test.__foo)\n",
    "    \n",
    "if __name__=='__main__':\n",
    "    main()\n",
    "    "
   ]
  },
  {
   "cell_type": "code",
   "execution_count": 12,
   "metadata": {},
   "outputs": [
    {
     "name": "stdout",
     "output_type": "stream",
     "text": [
      "hello\n",
      "__bar\n",
      "hello\n"
     ]
    }
   ],
   "source": [
    "class Test:\n",
    "    def __init__(self,foo):\n",
    "        self.__foo = foo\n",
    "    def __bar(self):\n",
    "        print(self.__foo)\n",
    "        print('__bar')\n",
    "def main():\n",
    "    test = Test('hello')\n",
    "    test._Test__bar()\n",
    "    print(test._Test__foo)\n",
    "if __name__ =='__main__':\n",
    "    main()"
   ]
  },
  {
   "cell_type": "markdown",
   "metadata": {},
   "source": [
    "# 面向对象的支柱\n",
    "- 封装\n",
    "    - 作者的理解是，隐藏一切可以隐藏的实现细节，只向外界暴露简单的编程接口。我们在类中定义的方法其实就是把数据和对数据的操作封装起来了，在我们创建了对象之后，只需要给对象发送一个消息（调用方法）就可以执行代码。也就是说我们只需要知道方法的名字和传入的参数（方法的外部视图）\n",
    "    - 访问属性可以通过属性的getter(访问器）和setter（修改器）方法进行对应的操作。通过@property包装器来包装getter和setter，使得对属性的访问既安全又方便.\n",
    "- __slots__魔法\n",
    "    - python是一门动态语言。动态语言允许我们在程序运行时给对象绑定新的属性或方法，当然也可以对已近绑定的属性和方法进行解绑。\n",
    "    - 但是如果我们需要限定自定义类型的对象只能绑定某些属性，可以通过在类中定义__slots__变量来进行限定\n",
    "    \n",
    "- 继承\n",
    "- 多态方法\n",
    "    - 静态方法\n",
    "        - \n",
    "    - 类方法"
   ]
  },
  {
   "cell_type": "code",
   "execution_count": null,
   "metadata": {},
   "outputs": [],
   "source": [
    "#练习题\n",
    "#定义一个类描述平面上的点并提供移动点和计算到另一个距离的方法\n",
    "#不知道如何下手。"
   ]
  },
  {
   "cell_type": "code",
   "execution_count": 15,
   "metadata": {},
   "outputs": [
    {
     "name": "stdout",
     "output_type": "stream",
     "text": [
      "小心超人正在玩飞行棋\n",
      "小心超人正在玩斗地主\n"
     ]
    }
   ],
   "source": [
    "class Person(object):\n",
    "    def __init__(self,name,age):\n",
    "        self._name=name\n",
    "        self._age = age\n",
    "    \n",
    "    #访问器- getter方法\n",
    "    @property\n",
    "    def name(self):\n",
    "        return self._name\n",
    "    \n",
    "    #访问器- getter方法\n",
    "    @property\n",
    "    def age(self):\n",
    "        return self._age\n",
    "    \n",
    "    #修改器-setter方法\n",
    "    @age.setter\n",
    "    def age(self,age):\n",
    "        self._age = age\n",
    "        \n",
    "    def play(self):\n",
    "        if self._age<=16:\n",
    "            print('%s正在玩飞行棋'%self._name)\n",
    "        else:\n",
    "            print('%s正在玩斗地主'%self._name)\n",
    "            \n",
    "def main():\n",
    "    person = Person('小心超人',14)\n",
    "    person.play()\n",
    "    person.age = 22\n",
    "    person.play()\n",
    "    \n",
    "if __name__ =='__main__':\n",
    "    main()"
   ]
  },
  {
   "cell_type": "code",
   "execution_count": 20,
   "metadata": {},
   "outputs": [],
   "source": [
    "class Person(object):\n",
    "    __slots__ = ('_name','_age','_gender')\n",
    "    \n",
    "    def __init__(self,name,age):\n",
    "        self._name = name\n",
    "        self._age = age\n",
    "        \n",
    "    @property\n",
    "    def name(self):\n",
    "        return self._name\n",
    "    @property\n",
    "    def age(self):\n",
    "        return self._age\n",
    "    @age.setter\n",
    "    def age(self,age):\n",
    "        self._age = age\n",
    "        \n",
    "    def play(self):\n",
    "        if self._age<=16:\n",
    "            print('%s正在玩飞行棋'%self._name)\n",
    "        else:\n",
    "            print('%s正在玩斗地主'%self._name)\n",
    "    \n",
    "def main():\n",
    "    person = Person('小心超人',22)\n",
    "    person.play()\n",
    "    person._gender = '男'\n",
    "    \n",
    "#这里什么也没有返回？\n",
    "#"
   ]
  },
  {
   "cell_type": "markdown",
   "metadata": {},
   "source": [
    "#    类方法\n",
    "- 静态方法\n",
    "- 对象方法\n",
    "- 类方法\n",
    "    - 类之间的关系\n",
    "        - is-a关系也叫继承或泛化，比如学生和人的关系，手机和电子产品的关系，都叫继承关系\n",
    "        - has-a关系通常称为关联，比如部门和员工的关系，都属于关联关系，关联关系就是整体和部分的关联，那么我们称之为聚合关系，如果整体进一步负责了部分的生命周期（整体和部分是不可分割的，同时同在也同时消亡），那么这种就是最强的关联关系，我们称之为合成关系\n",
    "        - use-a关系通常称之为依赖，比如司机有一个驾驶的行为（方法），其中的（参数）使用到了汽车，那么司机和汽车就是依赖关系\n",
    "    - 可以使用UML（统一建模语言）\n",
    "- 利用类之间的这些关系，我们可以在已有类的基础上完成某些操作，也可以在已有类的基础上创建新的类，这些都是实现代码复用的重要手段。\n",
    "    - 复用代码不仅可以减少开发的工作量，也有利于代码的管理和维护\n",
    "            "
   ]
  },
  {
   "cell_type": "code",
   "execution_count": 22,
   "metadata": {},
   "outputs": [
    {
     "name": "stdout",
     "output_type": "stream",
     "text": [
      "12\n",
      "6.0\n"
     ]
    }
   ],
   "source": [
    "from math import sqrt\n",
    "class Triangle(object):\n",
    "    def __init__(self,a,b,c):\n",
    "        self._a = a\n",
    "        self._b = b\n",
    "        self._c = c\n",
    "    \n",
    "    @staticmethod\n",
    "    def is_valid(a,b,c):\n",
    "        return a+b>c and b+c>a and a+c>b\n",
    "    \n",
    "    def perimeter(self):\n",
    "        return self._a+self._b+self._c\n",
    "    \n",
    "    def area(self):\n",
    "        half = self.perimeter()/2\n",
    "        return sqrt(half*(half-self._a)*(half-self._b)*(half-self._c))\n",
    "    \n",
    "def main():\n",
    "    a,b,c = 3,4,5\n",
    "    if Triangle.is_valid(a,b,c):\n",
    "        t = Triangle(a,b,c)\n",
    "        print(t.perimeter())\n",
    "        print(t.area())\n",
    "    else:\n",
    "        print('无法构成三角形')\n",
    "        \n",
    "if __name__=='__main__':\n",
    "    main()"
   ]
  },
  {
   "cell_type": "code",
   "execution_count": null,
   "metadata": {},
   "outputs": [],
   "source": [
    "from time import time,localtime,sleep\n",
    "\n",
    "class Clock(object):\n",
    "    def __init__(self,hour=0,minute=0,second=0):\n",
    "        self._hour = hour\n",
    "        self._minute = minute\n",
    "        self._second = second\n",
    "    \n",
    "    @classmethod\n",
    "    def now(cls):\n",
    "        ctime = localtime(time())\n",
    "        return cls(ctime.tm_hour,ctime.tm_min,ctime.tm_sec)\n",
    "    \n",
    "    def run(self):\n",
    "        self._second +=1\n",
    "        if self._second==60:\n",
    "            self._second = 0\n",
    "            self._minute +=1\n",
    "            if self._minute==60:\n",
    "                self._minute=0\n",
    "                self._hour +=1\n",
    "                if self._hour ==24:\n",
    "                    self._hour = 0\n",
    "                    \n",
    "    def show(self):\n",
    "        return '%02d:%02d:%02d'%(self._hour,self._minute,self._second)\n",
    "    \n",
    "def main():\n",
    "    clock = Clock.now()\n",
    "    while True:\n",
    "        print(clock.show())\n",
    "        sleep(1)\n",
    "        clock.run()\n",
    "        break\n",
    "        \n",
    "if __name__=='__main__':\n",
    "    main()"
   ]
  },
  {
   "cell_type": "markdown",
   "metadata": {},
   "source": [
    "Enter : 转入编辑模式\n",
    "Shift-Enter : 运行本单元，选中下个单元\n",
    "Ctrl-Enter : 运行本单元\n",
    "Alt-Enter : 运行本单元，在其下插入新单元\n",
    "Y : 按住单元格最左边的空白处，单元转入代码状态\n",
    "M :按住单元格最左边的空白处，单元转入markdown状态\n",
    "R : 按住单元格最左边的空白处，单元转入raw状态\n",
    "1 : 设定 1 级标题\n",
    "2 : 设定 2 级标题\n",
    "3 : 设定 3 级标题\n",
    "4 : 设定 4 级标题\n",
    "5 : 设定 5 级标题\n",
    "6 : 设定 6 级标题\n",
    "Up : 选中上方单元\n",
    "Down : 选中下方单元\n",
    "Shift-K : 扩大选中上方单元\n",
    "Shift-J : 扩大选中下方单元\n",
    "A : 在上方插入新单元\n",
    "B : 在下方插入新单元\n",
    "X : 剪切选中的单元\n",
    "C : 复制选中的单元\n",
    "Shift-V : 粘贴到上方单元\n",
    "V : 粘贴到下方单元\n",
    "Z : 恢复删除的最后一个单元\n",
    "D,D : 删除选中的单元\n",
    "Shift-M : 合并选中的单元\n",
    "Ctrl-S : 文件存盘\n",
    "S : 文件存盘\n",
    "L : 转换行号\n",
    "O : 转换输出\n",
    "Shift-O : 转换输出滚动\n",
    "Esc : 关闭页面\n",
    "Q : 关闭页面\n",
    "H : 显示快捷键帮助\n",
    "I,I : 中断Notebook内核\n",
    "0,0 : 重启Notebook内核\n",
    "Shift : 忽略\n",
    "Shift-Space : 向上滚动\n",
    "Space : 向下滚动\n"
   ]
  },
  {
   "cell_type": "markdown",
   "metadata": {},
   "source": [
    "Tab : 代码补全或缩进\n",
    "Shift-Tab : 提示\n",
    "Ctrl-] : 缩进\n",
    "Ctrl-[ : 解除缩进\n",
    "Ctrl-A : 全选\n",
    "Ctrl-Z : 复原\n",
    "Ctrl-Shift-Z : 再做\n",
    "Ctrl-Y : 再做\n",
    "Ctrl-Home : 跳到单元开头\n",
    "Ctrl-Up : 跳到单元开头\n",
    "Ctrl-End : 跳到单元末尾\n",
    "Ctrl-Down : 跳到单元末尾\n",
    "Ctrl-Left : 跳到左边一个字首\n",
    "Ctrl-Right : 跳到右边一个字首\n",
    "Ctrl-Backspace : 删除前面一个字\n",
    "Ctrl-Delete : 删除后面一个字\n",
    "Esc : 进入命令模式\n",
    "Ctrl-M : 进入命令模式\n",
    "Shift-Enter : 运行本单元，选中下一单元\n",
    "Ctrl-Enter : 运行本单元\n",
    "Alt-Enter : 运行本单元，在下面插入一单元\n",
    "Ctrl-Shift-- : 分割单元\n",
    "Ctrl-Shift-Subtract : 分割单元\n",
    "Ctrl-S : 文件存盘\n"
   ]
  }
 ],
 "metadata": {
  "kernelspec": {
   "display_name": "Python 3",
   "language": "python",
   "name": "python3"
  },
  "language_info": {
   "codemirror_mode": {
    "name": "ipython",
    "version": 3
   },
   "file_extension": ".py",
   "mimetype": "text/x-python",
   "name": "python",
   "nbconvert_exporter": "python",
   "pygments_lexer": "ipython3",
   "version": "3.7.6"
  }
 },
 "nbformat": 4,
 "nbformat_minor": 4
}
