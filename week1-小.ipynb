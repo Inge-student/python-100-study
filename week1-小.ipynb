{
 "cells": [
  {
   "cell_type": "markdown",
   "id": "88e2cc48",
   "metadata": {},
   "source": [
    "# 学习方法\n",
    "    - 1，按周进行汇总，一周有2版数据，根据电脑变化\n",
    "    - 2，以前做过的题，现在不会做啊，如何才能第一次就把一道题理解透彻，避免只知大概\n",
    "    - 3，看不懂函数"
   ]
  },
  {
   "cell_type": "code",
   "execution_count": null,
   "id": "b7a34ff3",
   "metadata": {},
   "outputs": [],
   "source": []
  },
  {
   "cell_type": "code",
   "execution_count": 1,
   "id": "5859e581",
   "metadata": {},
   "outputs": [
    {
     "name": "stdout",
     "output_type": "stream",
     "text": [
      "1 1 2 3 5 8 13 21 34 55 89 144 233 377 610 987 1597 2584 4181 6765 "
     ]
    }
   ],
   "source": [
    "a = 0\n",
    "b = 1\n",
    "for _ in range(20):\n",
    "    a, b = b, a + b\n",
    "    print(a, end=' ')"
   ]
  },
  {
   "cell_type": "code",
   "execution_count": 10,
   "id": "148f0f14",
   "metadata": {},
   "outputs": [
    {
     "name": "stdout",
     "output_type": "stream",
     "text": [
      "4 完美数\n",
      "5 完美数\n",
      "6 完美数\n"
     ]
    },
    {
     "data": {
      "text/plain": [
       "'我的思路：\\n1，得出范围。 遍历得到1-1000内的所有数，再用i除所有比i小的数j\\n2，得到数。i % j ==0:\\n2,存数。j相加存一个总数，i即使打印出来\\n改进思路：得到数中，剔除掉16，4这种数\\n\\n作者的思路\\n1，取数，遍历i的可能因数时比我的简单\\n2，得到数。考虑的情况中有不成立的特例。i //j == j,如16，25，4，这时不存在各因子相加为整数\\n3，存数，j相加得一个总和，在加上之前没得到的大数\\n'"
      ]
     },
     "execution_count": 10,
     "metadata": {},
     "output_type": "execute_result"
    }
   ],
   "source": [
    "# 找出10000以内的完美数。\n",
    "# 说明：完美数又称为完全数或完备数，它的所有的真因子（即除了自身以外的因子）的和（即因子函数）恰好等于它本身。\n",
    "# 例如：6（$6=1+2+3$）和28（$28=1+2+4+7+14$）就是完美数\n",
    "\n",
    "sum=0\n",
    "for i in range(1,10000):\n",
    "    for j in range(1,i-1):\n",
    "        if i % j ==0 :\n",
    "            sum+=j\n",
    "            if sum==i:\n",
    "                print(i,\"完美数\")\n",
    "\n",
    "'''我的思路：\n",
    "1，得出范围。 遍历得到1-1000内的所有数，再用i除所有比i小的数j\n",
    "2，得到数。i % j ==0:\n",
    "2,存数。j相加存一个总数，i即使打印出来\n",
    "改进思路：得到数中，剔除掉16，4这种数\n",
    "\n",
    "作者的思路\n",
    "1，取数，遍历i的可能因数时比我的简单\n",
    "2，得到数。考虑的情况中有不成立的特例。i //j == j,如16，25，4，这时不存在各因子相加为整数\n",
    "3，存数，j相加得一个总和，在加上之前没得到的大数\n",
    "'''"
   ]
  },
  {
   "cell_type": "code",
   "execution_count": 4,
   "id": "f23cc433",
   "metadata": {},
   "outputs": [
    {
     "name": "stdout",
     "output_type": "stream",
     "text": [
      "1\n",
      "6\n",
      "28\n",
      "496\n",
      "8128\n"
     ]
    }
   ],
   "source": [
    "import math\n",
    "\n",
    "for num in range(1, 10000):\n",
    "    result = 0\n",
    "    for factor in range(1, int(math.sqrt(num)) + 1):\n",
    "        if num % factor == 0:\n",
    "            result += factor\n",
    "            if factor > 1 and num // factor != factor:\n",
    "                result += num // factor\n",
    "    if result == num:\n",
    "        print(num)\n",
    "        \n"
   ]
  },
  {
   "cell_type": "code",
   "execution_count": null,
   "id": "97a7e00b",
   "metadata": {},
   "outputs": [],
   "source": [
    "## 输出100以内所有的素数。\n",
    "for i in range(2,100):\n",
    "    for j in range(2,i-1):\n",
    "        if i % j==0:#得遍历所有数后再得出素数的结论，有几种方法呢，反过来，\n",
    "            is_prime=False\n",
    "        else:\n",
    "'''我的思路，\n",
    "1，取数，取得2-100这些潜在素数，笨方法也行\n",
    "2，筛选素数，要求除1，自身外无其它因子，怎么弄？全部都不为，\n",
    "3，输出素数，剔除非素数\n",
    "\n",
    "作者思路\n",
    "1，取数，通过遍历取得2-100内的所有数，\n",
    "2，好像前面都一样啊，能除尽的则为Ｆalse,\n",
    "那么我知道了，只要证明有一个因子那肯定不是素数，所有break，break是结束比如for factor in range(2,10),因此break是只针对循环有效，\n",
    "而循环有for...in和while\n",
    "那么如果2，没有==0这种情况，要怎么输出呢？那就用False,True来调整\n",
    "\n",
    "'''\n",
    "\n",
    "            "
   ]
  },
  {
   "cell_type": "code",
   "execution_count": null,
   "id": "2c76d663",
   "metadata": {},
   "outputs": [],
   "source": [
    "import math\n",
    "\n",
    "for num in range(2, 100):\n",
    "    is_prime = True\n",
    "    for factor in range(2, int(math.sqrt(num)) + 1):\n",
    "        if num % factor == 0:\n",
    "            is_prime = False\n",
    "            break\n",
    "    if is_prime:\n",
    "        print(num, end=' ')"
   ]
  },
  {
   "cell_type": "code",
   "execution_count": 4,
   "id": "be7f3c4f",
   "metadata": {},
   "outputs": [
    {
     "name": "stdout",
     "output_type": "stream",
     "text": [
      "3\n",
      "2\n",
      "1\n"
     ]
    }
   ],
   "source": [
    "## 实现计算求最大公约数和最小公倍数的函数\n",
    "def gys(x,y):\n",
    "    (x,y)=(y,x) if x<y else (x,y)\n",
    "    for factor in range(y,1,-1):\n",
    "        if x % factor==0 and y % factor:\n",
    "            return factor\n",
    "\n",
    "def gbs(x,y):\n",
    "    (x,y)=(y,x) if x<y else (x,y)\n",
    "    for factor1 in range(0,y):\n",
    "        if x%factor1==0 and y%factor1==0:\n",
    "            \n",
    "            return factor1*factor"
   ]
  },
  {
   "cell_type": "code",
   "execution_count": 6,
   "id": "9ae77f2a",
   "metadata": {},
   "outputs": [],
   "source": [
    "## 实现判断一个数是不是回文数的函数。\n",
    "def huiwenshu(x):\n",
    "    cishu=True\n",
    "    sum=0\n",
    "    while cishu:\n",
    "        sum*=10\n",
    "        sum+=x%10\n",
    "        x//=10  \n",
    "        if x<0:#有必要一定判断被除数不为0吗\n",
    "            cishu=False\n",
    "    return sum"
   ]
  },
  {
   "cell_type": "code",
   "execution_count": 14,
   "id": "a149a9e1",
   "metadata": {
    "collapsed": true
   },
   "outputs": [
    {
     "name": "stdout",
     "output_type": "stream",
     "text": [
      "1\n",
      "4\n",
      "9\n",
      "16\n",
      "25\n",
      "36\n",
      "49\n",
      "64\n",
      "81\n",
      "1\n",
      "2\n",
      "3\n",
      "5\n",
      "8\n",
      "13\n",
      "21\n",
      "34\n",
      "55\n",
      "89\n",
      "144\n",
      "233\n",
      "377\n",
      "610\n",
      "987\n",
      "1597\n",
      "2584\n",
      "4181\n",
      "6765\n",
      "10946\n"
     ]
    }
   ],
   "source": [
    "#生成式语法,使用的是方括号\n",
    "f=[x+y for x in ('123456') for y in ('abcdef')]\n",
    "f = [x ** 2 for x in range(1, 1000)]\n",
    "#生成器\n",
    "f = (x ** 2 for x in range(1, 10))\n",
    "for val in f:\n",
    "    print(val)\n",
    "    \n",
    "#使用生成器语法生成，方法一，创建一个列表，再通过生成器（就是遍历列表）获取数据，这样不会想生成式一样占用空间\n",
    "#方法二，遍历列表，再使用yield，用来返回\n",
    "def fib(n):\n",
    "    x,y=0,1\n",
    "    for i in range(n):\n",
    "        x,y=y,x+y\n",
    "        yield y\n",
    "    \n",
    "def main():\n",
    "    for val in fib(20):\n",
    "        print(val)\n",
    "    \n",
    "if __name__=='__main__':\n",
    "    main()\n",
    "        "
   ]
  },
  {
   "cell_type": "code",
   "execution_count": 15,
   "id": "ec340e0b",
   "metadata": {},
   "outputs": [
    {
     "ename": "SyntaxError",
     "evalue": "invalid syntax (<ipython-input-15-2c18f4d3bd83>, line 1)",
     "output_type": "error",
     "traceback": [
      "\u001b[1;36m  File \u001b[1;32m\"<ipython-input-15-2c18f4d3bd83>\"\u001b[1;36m, line \u001b[1;32m1\u001b[0m\n\u001b[1;33m    def fib(20)\u001b[0m\n\u001b[1;37m            ^\u001b[0m\n\u001b[1;31mSyntaxError\u001b[0m\u001b[1;31m:\u001b[0m invalid syntax\n"
     ]
    }
   ],
   "source": [
    "def fib(20)\n"
   ]
  }
 ],
 "metadata": {
  "kernelspec": {
   "display_name": "Python 3",
   "language": "python",
   "name": "python3"
  },
  "language_info": {
   "codemirror_mode": {
    "name": "ipython",
    "version": 3
   },
   "file_extension": ".py",
   "mimetype": "text/x-python",
   "name": "python",
   "nbconvert_exporter": "python",
   "pygments_lexer": "ipython3",
   "version": "3.8.8"
  }
 },
 "nbformat": 4,
 "nbformat_minor": 5
}
