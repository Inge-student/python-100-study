{
 "cells": [
  {
   "cell_type": "markdown",
   "id": "88e2cc48",
   "metadata": {},
   "source": [
    "# 学习方法\n",
    "1，按周进行汇总，一周有2版数据，根据电脑变化\n",
    "2，以前做过的题，现在不会做啊，如何才能第一次就把一道题理解透彻，避免只知大概"
   ]
  },
  {
   "cell_type": "code",
   "execution_count": null,
   "id": "b7a34ff3",
   "metadata": {},
   "outputs": [],
   "source": []
  },
  {
   "cell_type": "code",
   "execution_count": 1,
   "id": "5859e581",
   "metadata": {},
   "outputs": [
    {
     "name": "stdout",
     "output_type": "stream",
     "text": [
      "1 1 2 3 5 8 13 21 34 55 89 144 233 377 610 987 1597 2584 4181 6765 "
     ]
    }
   ],
   "source": [
    "a = 0\n",
    "b = 1\n",
    "for _ in range(20):\n",
    "    a, b = b, a + b\n",
    "    print(a, end=' ')"
   ]
  },
  {
   "cell_type": "code",
   "execution_count": 10,
   "id": "148f0f14",
   "metadata": {},
   "outputs": [
    {
     "name": "stdout",
     "output_type": "stream",
     "text": [
      "4 完美数\n",
      "5 完美数\n",
      "6 完美数\n"
     ]
    },
    {
     "data": {
      "text/plain": [
       "'我的思路：\\n1，得出范围。 遍历得到1-1000内的所有数，再用i除所有比i小的数j\\n2，得到数。i % j ==0:\\n2,存数。j相加存一个总数，i即使打印出来\\n改进思路：得到数中，剔除掉16，4这种数\\n\\n作者的思路\\n1，取数，遍历i的可能因数时比我的简单\\n2，得到数。考虑的情况中有不成立的特例。i //j == j,如16，25，4，这时不存在各因子相加为整数\\n3，存数，j相加得一个总和，在加上之前没得到的大数\\n'"
      ]
     },
     "execution_count": 10,
     "metadata": {},
     "output_type": "execute_result"
    }
   ],
   "source": [
    "# 找出10000以内的完美数。\n",
    "# 说明：完美数又称为完全数或完备数，它的所有的真因子（即除了自身以外的因子）的和（即因子函数）恰好等于它本身。\n",
    "# 例如：6（$6=1+2+3$）和28（$28=1+2+4+7+14$）就是完美数\n",
    "\n",
    "sum=0\n",
    "for i in range(1,10000):\n",
    "    for j in range(1,i-1):\n",
    "        if i % j ==0 :\n",
    "            sum+=j\n",
    "            if sum==i:\n",
    "                print(i,\"完美数\")\n",
    "\n",
    "'''我的思路：\n",
    "1，得出范围。 遍历得到1-1000内的所有数，再用i除所有比i小的数j\n",
    "2，得到数。i % j ==0:\n",
    "2,存数。j相加存一个总数，i即使打印出来\n",
    "改进思路：得到数中，剔除掉16，4这种数\n",
    "\n",
    "作者的思路\n",
    "1，取数，遍历i的可能因数时比我的简单\n",
    "2，得到数。考虑的情况中有不成立的特例。i //j == j,如16，25，4，这时不存在各因子相加为整数\n",
    "3，存数，j相加得一个总和，在加上之前没得到的大数\n",
    "'''"
   ]
  },
  {
   "cell_type": "code",
   "execution_count": 4,
   "id": "f23cc433",
   "metadata": {},
   "outputs": [
    {
     "name": "stdout",
     "output_type": "stream",
     "text": [
      "1\n",
      "6\n",
      "28\n",
      "496\n",
      "8128\n"
     ]
    }
   ],
   "source": [
    "import math\n",
    "\n",
    "for num in range(1, 10000):\n",
    "    result = 0\n",
    "    for factor in range(1, int(math.sqrt(num)) + 1):\n",
    "        if num % factor == 0:\n",
    "            result += factor\n",
    "            if factor > 1 and num // factor != factor:\n",
    "                result += num // factor\n",
    "    if result == num:\n",
    "        print(num)\n",
    "        \n"
   ]
  },
  {
   "cell_type": "code",
   "execution_count": null,
   "id": "1c7853c7",
   "metadata": {},
   "outputs": [],
   "source": []
  },
  {
   "cell_type": "code",
   "execution_count": null,
   "id": "2c76d663",
   "metadata": {},
   "outputs": [],
   "source": []
  }
 ],
 "metadata": {
  "kernelspec": {
   "display_name": "Python 3",
   "language": "python",
   "name": "python3"
  },
  "language_info": {
   "codemirror_mode": {
    "name": "ipython",
    "version": 3
   },
   "file_extension": ".py",
   "mimetype": "text/x-python",
   "name": "python",
   "nbconvert_exporter": "python",
   "pygments_lexer": "ipython3",
   "version": "3.8.8"
  }
 },
 "nbformat": 4,
 "nbformat_minor": 5
}
