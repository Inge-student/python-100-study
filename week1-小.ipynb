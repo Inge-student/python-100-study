{
 "cells": [
  {
   "cell_type": "markdown",
   "id": "88e2cc48",
   "metadata": {},
   "source": [
    "# 学习方法\n",
    "    - 1，按周进行汇总，一周有2版数据，根据电脑变化\n",
    "    - 2，以前做过的题，现在不会做啊，如何才能第一次就把一道题理解透彻，避免只知大概\n",
    "    - 3，看不懂函数\n",
    "    - 4，做不出来的练习题，可以自下而上或者自上而下。大佬都是怎么思考的？"
   ]
  },
  {
   "cell_type": "code",
   "execution_count": null,
   "id": "b7a34ff3",
   "metadata": {},
   "outputs": [],
   "source": [
    "  - 元组，tupkle\n",
    "        - 存：t=()\n",
    "        - 增：\n",
    "        - 删：\n",
    "        - 改：不支持\n",
    "        - 查：遍历\n",
    "        - 取：\n",
    "    - 集合，set,不允许有重复元素，那我们注册APP时不允许有重复元素\n",
    "        - 存：t={},set(())构造器，set={num for num in range(1,100) if num%5==0}推导式\n",
    "        - 增：set1.add() set1.update()\n",
    "        - 删：\n",
    "        - 改：\n",
    "        - 查：\n",
    "        - 取：\n",
    "    - 字典，dict\n",
    "        - 存：dict={'':''},构造器:1,dict(a=b),2,dict(zip['a'],'b'),d,推导式item1={num:num**2 for num in range(1,10)}\n",
    "        - 增：\n",
    "        - 删：dict1.popteam（）,dict1.pop（）\n",
    "        - 改：\n",
    "        - 查：dict1[''],dict1.get('键','默认值')\n",
    "        - 取：遍历:for key in dict1--print(f'{key}:{score[key]'})"
   ]
  },
  {
   "cell_type": "code",
   "execution_count": null,
   "id": "97bf295b",
   "metadata": {},
   "outputs": [],
   "source": []
  },
  {
   "cell_type": "code",
   "execution_count": 25,
   "id": "fc8ec779",
   "metadata": {},
   "outputs": [
    {
     "name": "stdout",
     "output_type": "stream",
     "text": [
      "19 28 10 7 17\n"
     ]
    }
   ],
   "source": [
    "\"\"\"\n",
    "《幸运的基督徒》\n",
    "有15个基督徒和15个非基督徒在海上遇险，为了能让一部分人活下来不得不将其中15个人扔到海里面去，\n",
    "有个人想了个办法就是大家围成一个圈，由某个人开始从1报数，报到9的人就扔到海里面，他后面的人接着从1开始报数，报到9的人继续扔到海里面，\n",
    "直到扔掉15个人。\n",
    "由于上帝的保佑，15个基督徒都幸免于难，问这些人最开始是怎么站的，哪些位置是基督徒哪些位置是非基督徒。\n",
    "\"\"\"\n",
    "'''\n",
    "自上而下和自下而上，我这里需要自下而上，从\n",
    "列出需要遵循的规律：\n",
    "1，第一圈，按照9的倍数被剔除，从9+1，18+1，27+1这里开始再加9个，\n",
    "2，第二圈，剔除7，17，26这些位置的人，从7+1，17+1，26+1开始再加9个\n",
    "'''\n",
    "def display():\n",
    "    counter,number,index=0\n",
    "    person=[True]*30\n",
    "    while counter<15:\n",
    "        if person[index]:\n",
    "            number+=1\n",
    "            \n",
    "            if number==9:\n",
    "                person[index]=False\n",
    "            else:\n",
    "                index+=1\n",
    "                \n",
    "        "
   ]
  },
  {
   "cell_type": "code",
   "execution_count": 3,
   "id": "1909434e",
   "metadata": {},
   "outputs": [
    {
     "name": "stdout",
     "output_type": "stream",
     "text": [
      "Number of rows: 4\n",
      "\n",
      "1\t\n",
      "\n",
      "1\ta\n",
      "1\t\n",
      "\n",
      "1\ta\n",
      "2\taa\n",
      "1\t\n",
      "\n",
      "1\ta\n",
      "3\taa\n",
      "3\taaa\n",
      "1\t\n"
     ]
    }
   ],
   "source": [
    "num = int(input('Number of rows: '))\n",
    "yh = [[]] * num\n",
    "for row in range(len(yh)):\n",
    "    yh[row] = [None] * (row + 1)\n",
    "#     print(len(yh{row}))\n",
    "    for col in range(len(yh[row])):\n",
    "#         a=col*'a'\n",
    "#         print(a)\n",
    "        if col == 0 or col == row:\n",
    "            yh[row][col] = 1\n",
    "        else:\n",
    "            yh[row][col] = yh[row - 1][col] + yh[row - 1][col - 1]\n",
    "        print(yh[row][col], end='\\t')\n",
    "    print()\n",
    "#好像是懂了，到彻底弄懂，懂得中间的借力，还差什么呢？"
   ]
  },
  {
   "cell_type": "code",
   "execution_count": 11,
   "id": "3630ea8e",
   "metadata": {},
   "outputs": [
    {
     "name": "stdout",
     "output_type": "stream",
     "text": [
      "None\n",
      "['a', []]\n"
     ]
    }
   ],
   "source": [
    "b=[[],[]]\n",
    "c=[None,None]\n",
    "print(c[0])\n",
    "b[0]='a'\n",
    "print(b)\n"
   ]
  },
  {
   "cell_type": "code",
   "execution_count": 17,
   "id": "a70d1437",
   "metadata": {
    "collapsed": true
   },
   "outputs": [
    {
     "name": "stdout",
     "output_type": "stream",
     "text": [
      "{'骆昊': 95, '白元芳': 78, '狄仁杰': 82}\n",
      "{'one': 1, 'two': 2, 'three': 3, 'four': 4} {'a': '1', 'b': '2', 'c': '3'} {1: 1, 2: 4, 3: 9, 4: 16, 5: 25, 6: 36, 7: 49, 8: 64, 9: 81}\n",
      "95\n",
      "82\n",
      "骆昊: 95\n",
      "白元芳: 78\n",
      "狄仁杰: 82\n",
      "{'骆昊': 95, '白元芳': 65, '狄仁杰': 82, '诸葛王朗': 71, '冷面': 67, '方启鹤': 85}\n",
      "None\n",
      "60\n",
      "('方启鹤', 85)\n",
      "('冷面', 67)\n",
      "95\n",
      "{}\n"
     ]
    }
   ],
   "source": [
    "# 创建字典的字面量语法\n",
    "scores = {'骆昊': 95, '白元芳': 78, '狄仁杰': 82}\n",
    "print(scores)\n",
    "# 创建字典的构造器语法\n",
    "items1 = dict(one=1, two=2, three=3, four=4)\n",
    "# 通过zip函数将两个序列压成字典\n",
    "items2 = dict(zip(['a', 'b', 'c'], '123'))\n",
    "# 创建字典的推导式语法\n",
    "items3 = {num: num ** 2 for num in range(1, 10)}\n",
    "print(items1, items2, items3)\n",
    "#i 通过键可以获取字典中对应的值\n",
    "print(scores['骆昊'])\n",
    "print(scores['狄仁杰'])\n",
    "# 对字典中所有键值对进行遍历\n",
    "for key in scores:\n",
    "    print(f'{key}: {scores[key]}')\n",
    "# 更新字典中的元素\n",
    "scores['白元芳'] = 65\n",
    "scores['诸葛王朗'] = 71\n",
    "scores.update(冷面=67, 方启鹤=85)\n",
    "print(scores)\n",
    "if '武则天' in scores:\n",
    "    print(scores['武则天'])\n",
    "print(scores.get('武则天'))\n",
    "# get方法也是通过键获取对应的值但是可以设置默认值\n",
    "print(scores.get('武则天', 60))\n",
    "# 删除字典中的元素\n",
    "print(scores.popitem())#删除最后一个键值对，\n",
    "print(scores.popitem())\n",
    "print(scores.pop('骆昊', 100))#删除括号内指定key的key-value键值对，如果没找到，程序会报错，但可以指定默认值，这里如果没有找到骆昊的值，就会默认删除100\n",
    "# 清空字典\n",
    "scores.clear()\n",
    "print(scores)"
   ]
  },
  {
   "cell_type": "code",
   "execution_count": null,
   "id": "c53f30b1",
   "metadata": {},
   "outputs": [],
   "source": [
    "# 设计一个函数返回给定文件名的后缀名\n",
    "Python rfind() 返回字符串最后一次出现的位置，如果没有匹配项则返回 -1。\n"
   ]
  },
  {
   "cell_type": "code",
   "execution_count": 18,
   "id": "0697648e",
   "metadata": {},
   "outputs": [],
   "source": [
    "# 设计一个函数产生指定长度的验证码，验证码由大小写字母和数字构成\n",
    "import random\n",
    "def yanzhengma(x):#x用来指定产生验证码的长度\n",
    "    for i in range(x):\n",
    "        qvshu=('1234567890QWERTYUIOPASDFGHJKLZXCVBNMmnbvcxzasdfghjklpoiuytrewq')\n",
    "        nun=random.randinct(0,qvshu)\n",
    "        return num\n",
    "#random.randict()只能随机产生数值，而不能"
   ]
  },
  {
   "cell_type": "code",
   "execution_count": 1,
   "id": "5859e581",
   "metadata": {},
   "outputs": [
    {
     "name": "stdout",
     "output_type": "stream",
     "text": [
      "1 1 2 3 5 8 13 21 34 55 89 144 233 377 610 987 1597 2584 4181 6765 "
     ]
    }
   ],
   "source": [
    "a = 0\n",
    "b = 1\n",
    "for _ in range(20):\n",
    "    a, b = b, a + b\n",
    "    print(a, end=' ')"
   ]
  },
  {
   "cell_type": "code",
   "execution_count": 10,
   "id": "148f0f14",
   "metadata": {},
   "outputs": [
    {
     "name": "stdout",
     "output_type": "stream",
     "text": [
      "4 完美数\n",
      "5 完美数\n",
      "6 完美数\n"
     ]
    },
    {
     "data": {
      "text/plain": [
       "'我的思路：\\n1，得出范围。 遍历得到1-1000内的所有数，再用i除所有比i小的数j\\n2，得到数。i % j ==0:\\n2,存数。j相加存一个总数，i即使打印出来\\n改进思路：得到数中，剔除掉16，4这种数\\n\\n作者的思路\\n1，取数，遍历i的可能因数时比我的简单\\n2，得到数。考虑的情况中有不成立的特例。i //j == j,如16，25，4，这时不存在各因子相加为整数\\n3，存数，j相加得一个总和，在加上之前没得到的大数\\n'"
      ]
     },
     "execution_count": 10,
     "metadata": {},
     "output_type": "execute_result"
    }
   ],
   "source": [
    "# 找出10000以内的完美数。\n",
    "# 说明：完美数又称为完全数或完备数，它的所有的真因子（即除了自身以外的因子）的和（即因子函数）恰好等于它本身。\n",
    "# 例如：6（$6=1+2+3$）和28（$28=1+2+4+7+14$）就是完美数\n",
    "\n",
    "sum=0\n",
    "for i in range(1,10000):\n",
    "    for j in range(1,i-1):\n",
    "        if i % j ==0 :\n",
    "            sum+=j\n",
    "            if sum==i:\n",
    "                print(i,\"完美数\")\n",
    "\n",
    "'''我的思路：\n",
    "1，得出范围。 遍历得到1-1000内的所有数，再用i除所有比i小的数j\n",
    "2，得到数。i % j ==0:\n",
    "2,存数。j相加存一个总数，i即使打印出来\n",
    "改进思路：得到数中，剔除掉16，4这种数\n",
    "\n",
    "作者的思路\n",
    "1，取数，遍历i的可能因数时比我的简单\n",
    "2，得到数。考虑的情况中有不成立的特例。i //j == j,如16，25，4，这时不存在各因子相加为整数\n",
    "3，存数，j相加得一个总和，在加上之前没得到的大数\n",
    "'''"
   ]
  },
  {
   "cell_type": "code",
   "execution_count": 4,
   "id": "f23cc433",
   "metadata": {},
   "outputs": [
    {
     "name": "stdout",
     "output_type": "stream",
     "text": [
      "1\n",
      "6\n",
      "28\n",
      "496\n",
      "8128\n"
     ]
    }
   ],
   "source": [
    "import math\n",
    "\n",
    "for num in range(1, 10000):\n",
    "    result = 0\n",
    "    for factor in range(1, int(math.sqrt(num)) + 1):\n",
    "        if num % factor == 0:\n",
    "            result += factor\n",
    "            if factor > 1 and num // factor != factor:\n",
    "                result += num // factor\n",
    "    if result == num:\n",
    "        print(num)\n",
    "        \n"
   ]
  },
  {
   "cell_type": "code",
   "execution_count": null,
   "id": "97a7e00b",
   "metadata": {},
   "outputs": [],
   "source": [
    "## 输出100以内所有的素数。\n",
    "for i in range(2,100):\n",
    "    for j in range(2,i-1):\n",
    "        if i % j==0:#得遍历所有数后再得出素数的结论，有几种方法呢，反过来，\n",
    "            is_prime=False\n",
    "        else:\n",
    "'''我的思路，\n",
    "1，取数，取得2-100这些潜在素数，笨方法也行\n",
    "2，筛选素数，要求除1，自身外无其它因子，怎么弄？全部都不为，\n",
    "3，输出素数，剔除非素数\n",
    "\n",
    "作者思路\n",
    "1，取数，通过遍历取得2-100内的所有数，\n",
    "2，好像前面都一样啊，能除尽的则为Ｆalse,\n",
    "那么我知道了，只要证明有一个因子那肯定不是素数，所有break，break是结束比如for factor in range(2,10),因此break是只针对循环有效，\n",
    "而循环有for...in和while\n",
    "那么如果2，没有==0这种情况，要怎么输出呢？那就用False,True来调整\n",
    "\n",
    "'''\n",
    "\n",
    "            "
   ]
  },
  {
   "cell_type": "code",
   "execution_count": null,
   "id": "2c76d663",
   "metadata": {},
   "outputs": [],
   "source": [
    "import math\n",
    "\n",
    "for num in range(2, 100):\n",
    "    is_prime = True\n",
    "    for factor in range(2, int(math.sqrt(num)) + 1):\n",
    "        if num % factor == 0:\n",
    "            is_prime = False\n",
    "            break\n",
    "    if is_prime:\n",
    "        print(num, end=' ')"
   ]
  },
  {
   "cell_type": "code",
   "execution_count": 4,
   "id": "be7f3c4f",
   "metadata": {},
   "outputs": [
    {
     "name": "stdout",
     "output_type": "stream",
     "text": [
      "3\n",
      "2\n",
      "1\n"
     ]
    }
   ],
   "source": [
    "## 实现计算求最大公约数和最小公倍数的函数\n",
    "def gys(x,y):\n",
    "    (x,y)=(y,x) if x<y else (x,y)\n",
    "    for factor in range(y,1,-1):\n",
    "        if x % factor==0 and y % factor:\n",
    "            return factor\n",
    "\n",
    "def gbs(x,y):\n",
    "    (x,y)=(y,x) if x<y else (x,y)\n",
    "    for factor1 in range(0,y):\n",
    "        if x%factor1==0 and y%factor1==0:\n",
    "            \n",
    "            return factor1*factor"
   ]
  },
  {
   "cell_type": "code",
   "execution_count": 6,
   "id": "9ae77f2a",
   "metadata": {},
   "outputs": [],
   "source": [
    "## 实现判断一个数是不是回文数的函数。\n",
    "def huiwenshu(x):\n",
    "    cishu=True\n",
    "    sum=0\n",
    "    while cishu:\n",
    "        sum*=10\n",
    "        sum+=x%10\n",
    "        x//=10  \n",
    "        if x<0:#有必要一定判断被除数不为0吗\n",
    "            cishu=False\n",
    "    return sum"
   ]
  },
  {
   "cell_type": "code",
   "execution_count": 14,
   "id": "a149a9e1",
   "metadata": {
    "collapsed": true
   },
   "outputs": [
    {
     "name": "stdout",
     "output_type": "stream",
     "text": [
      "1\n",
      "4\n",
      "9\n",
      "16\n",
      "25\n",
      "36\n",
      "49\n",
      "64\n",
      "81\n",
      "1\n",
      "2\n",
      "3\n",
      "5\n",
      "8\n",
      "13\n",
      "21\n",
      "34\n",
      "55\n",
      "89\n",
      "144\n",
      "233\n",
      "377\n",
      "610\n",
      "987\n",
      "1597\n",
      "2584\n",
      "4181\n",
      "6765\n",
      "10946\n"
     ]
    }
   ],
   "source": [
    "#生成式语法,使用的是方括号\n",
    "f=[x+y for x in ('123456') for y in ('abcdef')]\n",
    "f = [x ** 2 for x in range(1, 1000)]\n",
    "#生成器\n",
    "f = (x ** 2 for x in range(1, 10))\n",
    "for val in f:\n",
    "    print(val)\n",
    "    \n",
    "#使用生成器语法生成，方法一，创建一个列表，再通过生成器（就是遍历列表）获取数据，这样不会想生成式一样占用空间\n",
    "#方法二，遍历列表，再使用yield，用来返回\n",
    "def fib(n):\n",
    "    x,y=0,1\n",
    "    for i in range(n):\n",
    "        x,y=y,x+y\n",
    "        yield y\n",
    "    \n",
    "def main():\n",
    "    for val in fib(20):\n",
    "        print(val)\n",
    "    \n",
    "if __name__=='__main__':\n",
    "    main()\n",
    "        "
   ]
  },
  {
   "cell_type": "code",
   "execution_count": 15,
   "id": "72cd8a5b",
   "metadata": {},
   "outputs": [
    {
     "ename": "SyntaxError",
     "evalue": "invalid syntax (<ipython-input-15-2c18f4d3bd83>, line 1)",
     "output_type": "error",
     "traceback": [
      "\u001b[1;36m  File \u001b[1;32m\"<ipython-input-15-2c18f4d3bd83>\"\u001b[1;36m, line \u001b[1;32m1\u001b[0m\n\u001b[1;33m    def fib(20)\u001b[0m\n\u001b[1;37m            ^\u001b[0m\n\u001b[1;31mSyntaxError\u001b[0m\u001b[1;31m:\u001b[0m invalid syntax\n"
     ]
    }
   ],
   "source": [
    "# 设计一个函数返回传入的列表中最大和第二大的元素的值\n",
    "def fanhuizhi(list1):\n",
    "    \n",
    "    if list1[0]>list1[1]:\n",
    "        m1,m2=list1[0],list1[1]\n",
    "    else:\n",
    "        m1,m2=list1[1],list1[2]\n",
    "        "
   ]
  }
 ],
 "metadata": {
  "kernelspec": {
   "display_name": "Python 3",
   "language": "python",
   "name": "python3"
  },
  "language_info": {
   "codemirror_mode": {
    "name": "ipython",
    "version": 3
   },
   "file_extension": ".py",
   "mimetype": "text/x-python",
   "name": "python",
   "nbconvert_exporter": "python",
   "pygments_lexer": "ipython3",
   "version": "3.8.8"
  }
 },
 "nbformat": 4,
 "nbformat_minor": 5
}
