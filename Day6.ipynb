{
 "cells": [
  {
   "cell_type": "markdown",
   "metadata": {},
   "source": [
    "# 函数的作用\n",
    "- 代码有很多种坏味道，重复是最坏的一种。要写出高质量的代码首先要解决重复代码的问题。\n",
    "- 定义函数\n",
    "    - 在python中，可以使用def 关键字来定义函数，和变量一样每个函数也有一个响亮的名字，而且命名的规则和变量的命名规则是一致的。在函数名后面的圆括号中可以放置传递给函数的参数，相当于数学函数中的自变量。而函数执行完后可以通过return关键字来返回一个值。这相当于数学上的因变量。\n",
    "- 函数的参数\n",
    "    - python中的函数对函数参数的处理与其它语言中函数的处理不同。\n",
    "    - 函数的参数可以有默认值 ， 也支持使用可变参数，所以python并不需要像其他语言一样支持函数的重载\n",
    "    - 如果给函数的参数设定了默认值，意味着在调用函数时如果没有传入对应参数的值时将使用该参数的默认值。所以上面的代码中我们可以用各种不同的方式去调用add函数，这和很多语言中函数重载的效果是一样的\n",
    "    - 可变参数\n",
    "        - 以上面的add函数为例，函数的调用者可以会对0个，1个甚至多个，具体多少个我们不确定。作为函数的创作者，在不确定参数个数的时候，我们可以使用可变参数。\n",
    "- 函数的命名冲突\n",
    "    - 如果是在团队多人协助中，可能多个成员都定义了相同函数名。因为python中不支持函数的重载功能，所以虽然有多个重命名函数，但是新的命名函数会覆盖上一个重命名函数，所以最后实际上只有一个函数。\n",
    "    - python 中解决重命名冲突的方法是，python中每个文件就代表了一个模块（module)，我们在不同的模块中可以有同名的函数。\n",
    "- 函数中还有其它的可执行代码\n",
    "    - python解释器\n",
    "    "
   ]
  },
  {
   "cell_type": "code",
   "execution_count": 5,
   "metadata": {},
   "outputs": [
    {
     "name": "stdout",
     "output_type": "stream",
     "text": [
      "m=5\n",
      "n=5\n",
      "1\n"
     ]
    }
   ],
   "source": [
    "m = int(input('m='))\n",
    "n = int(input('n='))\n",
    "fm = 1\n",
    "for num in range(1,m+1):\n",
    "    fm*= num\n",
    "fn = 1\n",
    "for num in range(1,n+1):\n",
    "    fn*= num\n",
    "fm_n = 1\n",
    "for num in range(1,m-n+1):\n",
    "    fm_n*= num\n",
    "print(fm//fn//fm_n)"
   ]
  },
  {
   "cell_type": "code",
   "execution_count": 16,
   "metadata": {},
   "outputs": [
    {
     "ename": "SyntaxError",
     "evalue": "invalid syntax (<ipython-input-16-825cd4d08b32>, line 12)",
     "output_type": "error",
     "traceback": [
      "\u001b[1;36m  File \u001b[1;32m\"<ipython-input-16-825cd4d08b32>\"\u001b[1;36m, line \u001b[1;32m12\u001b[0m\n\u001b[1;33m    print(fac(m)//fac(n)//fac(m-n))\u001b[0m\n\u001b[1;37m        ^\u001b[0m\n\u001b[1;31mSyntaxError\u001b[0m\u001b[1;31m:\u001b[0m invalid syntax\n"
     ]
    }
   ],
   "source": [
    "# 用函数来替换重复代码\n",
    "\n",
    "def fac(num):\n",
    "    result = 1\n",
    "    for n in range(1,num+1):\n",
    "        result *= n\n",
    "    return result\n",
    "#当需要计算阶乘的时候不用再写循环求阶乘而是直接调用已近定义好的函数\n",
    "m = int(input('m='))\n",
    "n = int(input('n = ')\n",
    "\n",
    "print(fac(m)//fac(n)//fac(m-n))"
   ]
  },
  {
   "cell_type": "code",
   "execution_count": null,
   "metadata": {
    "scrolled": true
   },
   "outputs": [],
   "source": [
    "from random import randint\n",
    "def roll_dice(n=2):\n",
    "    total = 0\n",
    "    for _ in range(n):\n",
    "        total += randint(1,6)\n",
    "    return total\n",
    "def add(a=0,b=0,c=0):\n",
    "    return a+b+c\n"
   ]
  },
  {
   "cell_type": "code",
   "execution_count": 17,
   "metadata": {
    "scrolled": true
   },
   "outputs": [
    {
     "name": "stdout",
     "output_type": "stream",
     "text": [
      "call foo()\n",
      "call bar()\n"
     ]
    }
   ],
   "source": [
    "def foo():\n",
    "    pass\n",
    "\n",
    "\n",
    "def bar():\n",
    "    pass\n",
    "\n",
    "\n",
    "# __name__是Python中一个隐含的变量它代表了模块的名字\n",
    "# 只有被Python解释器直接执行的模块的名字才是__main__\n",
    "if __name__ == '__main__':\n",
    "    print('call foo()')\n",
    "    foo()\n",
    "    print('call bar()')\n",
    "    bar()"
   ]
  },
  {
   "cell_type": "code",
   "execution_count": 18,
   "metadata": {
    "scrolled": true
   },
   "outputs": [
    {
     "ename": "ModuleNotFoundError",
     "evalue": "No module named 'module3'",
     "output_type": "error",
     "traceback": [
      "\u001b[1;31m---------------------------------------------------------------------------\u001b[0m",
      "\u001b[1;31mModuleNotFoundError\u001b[0m                       Traceback (most recent call last)",
      "\u001b[1;32m<ipython-input-18-b4e6aa7db43e>\u001b[0m in \u001b[0;36m<module>\u001b[1;34m\u001b[0m\n\u001b[1;32m----> 1\u001b[1;33m \u001b[1;32mimport\u001b[0m \u001b[0mmodule3\u001b[0m\u001b[1;33m\u001b[0m\u001b[1;33m\u001b[0m\u001b[0m\n\u001b[0m",
      "\u001b[1;31mModuleNotFoundError\u001b[0m: No module named 'module3'"
     ]
    }
   ],
   "source": []
  },
  {
   "cell_type": "code",
   "execution_count": null,
   "metadata": {
    "scrolled": true
   },
   "outputs": [],
   "source": []
  },
  {
   "cell_type": "code",
   "execution_count": null,
   "metadata": {
    "scrolled": true
   },
   "outputs": [],
   "source": []
  },
  {
   "cell_type": "code",
   "execution_count": null,
   "metadata": {
    "scrolled": true
   },
   "outputs": [],
   "source": []
  },
  {
   "cell_type": "code",
   "execution_count": null,
   "metadata": {
    "scrolled": true
   },
   "outputs": [],
   "source": []
  },
  {
   "cell_type": "code",
   "execution_count": null,
   "metadata": {
    "scrolled": true
   },
   "outputs": [],
   "source": []
  }
 ],
 "metadata": {
  "kernelspec": {
   "display_name": "Python 3",
   "language": "python",
   "name": "python3"
  },
  "language_info": {
   "codemirror_mode": {
    "name": "ipython",
    "version": 3
   },
   "file_extension": ".py",
   "mimetype": "text/x-python",
   "name": "python",
   "nbconvert_exporter": "python",
   "pygments_lexer": "ipython3",
   "version": "3.7.6"
  }
 },
 "nbformat": 4,
 "nbformat_minor": 4
}
