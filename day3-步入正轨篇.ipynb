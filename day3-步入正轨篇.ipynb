{
 "cells": [
  {
   "cell_type": "markdown",
   "id": "9dac7887",
   "metadata": {},
   "source": [
    "# 学习方法持续改进中"
   ]
  },
  {
   "cell_type": "markdown",
   "id": "e78a04c3",
   "metadata": {},
   "source": [
    "## 学习知识"
   ]
  },
  {
   "cell_type": "code",
   "execution_count": 6,
   "id": "5b687b66",
   "metadata": {},
   "outputs": [
    {
     "name": "stdout",
     "output_type": "stream",
     "text": [
      "153是水仙花数\n",
      "370是水仙花数\n",
      "371是水仙花数\n",
      "407是水仙花数\n"
     ]
    }
   ],
   "source": [
    "# 水仙花数也被称为超完全数字不变数、自恋数、自幂数、阿姆斯特朗数，\n",
    "# 它是一个3位数，该数字每个位上数字的立方之和正好等于它本身，\n",
    "# 例如：$1^3 + 5^3+ 3^3=153$。\n",
    "for i in range(1,10):\n",
    "    for j in range(10):\n",
    "        for k in range(10):\n",
    "            if i**3+j**3+k**3==i*100+j*10+k:\n",
    "                print('%d%d%d是水仙花数'%(i,j,k))\n",
    "                \n",
    "# #正着来失败，那可以反着来\n",
    "# for i in range(100,1000):\n",
    "#     if i==(i//100)**3+(i%10)**3+((i//10)%10)**3:\n",
    "#        print(i,'是水仙花数') \n",
    "    \n",
    "    "
   ]
  },
  {
   "cell_type": "code",
   "execution_count": null,
   "id": "cde06879",
   "metadata": {},
   "outputs": [],
   "source": [
    "## 我们还可以实现将一个正整数反转，例如：将12345变成54321\n",
    "i= int(input('请输入一个正整数：'))\n",
    "num=0\n",
    "cishu=1\n",
    "if i<10:\n",
    "    num=i\n",
    "else:\n",
    "    while True:\n",
    "        a=i%10\n",
    "        b=i//10\n",
    "        c=b%10\n",
    "        if b<0:\n",
    "            \n",
    "            \n",
    "    "
   ]
  },
  {
   "cell_type": "code",
   "execution_count": null,
   "id": "14ae29eb",
   "metadata": {},
   "outputs": [],
   "source": []
  },
  {
   "cell_type": "code",
   "execution_count": null,
   "id": "16aa14de",
   "metadata": {},
   "outputs": [],
   "source": []
  },
  {
   "cell_type": "code",
   "execution_count": null,
   "id": "fc811827",
   "metadata": {},
   "outputs": [],
   "source": []
  },
  {
   "cell_type": "code",
   "execution_count": null,
   "id": "0fe7cefa",
   "metadata": {},
   "outputs": [],
   "source": []
  }
 ],
 "metadata": {
  "kernelspec": {
   "display_name": "Python 3",
   "language": "python",
   "name": "python3"
  },
  "language_info": {
   "codemirror_mode": {
    "name": "ipython",
    "version": 3
   },
   "file_extension": ".py",
   "mimetype": "text/x-python",
   "name": "python",
   "nbconvert_exporter": "python",
   "pygments_lexer": "ipython3",
   "version": "3.8.8"
  }
 },
 "nbformat": 4,
 "nbformat_minor": 5
}
