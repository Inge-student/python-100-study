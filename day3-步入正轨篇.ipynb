{
 "cells": [
  {
   "cell_type": "markdown",
   "metadata": {},
   "source": [
    "# 学习方法持续改进中"
   ]
  },
  {
   "cell_type": "markdown",
   "metadata": {},
   "source": [
    "## 学习知识"
   ]
  },
  {
   "cell_type": "code",
   "execution_count": 6,
   "metadata": {},
   "outputs": [
    {
     "name": "stdout",
     "output_type": "stream",
     "text": [
      "153是水仙花数\n",
      "370是水仙花数\n",
      "371是水仙花数\n",
      "407是水仙花数\n"
     ]
    }
   ],
   "source": [
    "# 水仙花数也被称为超完全数字不变数、自恋数、自幂数、阿姆斯特朗数，\n",
    "# 它是一个3位数，该数字每个位上数字的立方之和正好等于它本身，\n",
    "# 例如：$1^3 + 5^3+ 3^3=153$。\n",
    "for i in range(1,10):\n",
    "    for j in range(10):\n",
    "        for k in range(10):\n",
    "            if i**3+j**3+k**3==i*100+j*10+k:\n",
    "                print('%d%d%d是水仙花数'%(i,j,k))\n",
    "                \n",
    "# #正着来失败，那可以反着来\n",
    "# for i in range(100,1000):\n",
    "#     if i==(i//100)**3+(i%10)**3+((i//10)%10)**3:\n",
    "#        print(i,'是水仙花数') \n",
    "    \n",
    "    "
   ]
  },
  {
   "cell_type": "code",
   "execution_count": null,
   "metadata": {},
   "outputs": [],
   "source": [
    "## 我们还可以实现将一个正整数反转，例如：将12345变成54321\n",
    "i= int(input('请输入一个正整数：'))\n",
    "num=0\n",
    "cishu=1\n",
    "if i<10:\n",
    "    num=i\n",
    "else:\n",
    "    while True:\n",
    "        a=i%10\n",
    "        b=i//10\n",
    "        c=b%10\n",
    "        if b<0:\n",
    "            \n",
    "            \n",
    "    "
   ]
  },
  {
   "cell_type": "code",
   "execution_count": 1,
   "metadata": {},
   "outputs": [
    {
     "name": "stdout",
     "output_type": "stream",
     "text": [
      "请输入1到12，包括12之内的正整数：5\n",
      "请输入1到12，包括12之内的正整数：6\n",
      "请输入1到12，包括12之内的正整数：7\n",
      "玩家输光了钱\n"
     ]
    }
   ],
   "source": [
    "# Craps赌博游戏\n",
    "# 我们设定玩家开始游戏时有1000元的赌注\n",
    "# 游戏结束的条件是玩家输光所有的赌注\n",
    "\n",
    "wangjia=int(input('请输入1到12，包括12之内的正整数：'))\n",
    "money=1000\n",
    "if wangjia==7 or wangjia==11:\n",
    "    print('玩家赢了')\n",
    "elif wangjia in (2,3,12):\n",
    "    print(\"玩家输光了钱\")\n",
    "else:\n",
    "    cishu=True\n",
    "    while cishu:\n",
    "        cishu=False\n",
    "        wangjia2=int(input('请输入1到12，包括12之内的正整数：'))\n",
    "       \n",
    "        if wangjia2==7:\n",
    "            print(\"玩家输光了钱\")\n",
    "            \n",
    "        elif wangjia2==wangjia:\n",
    "            print('玩家赢了')\n",
    "        else:\n",
    "            cishu=True\n",
    "\n",
    "        \n"
   ]
  },
  {
   "cell_type": "code",
   "execution_count": null,
   "metadata": {},
   "outputs": [],
   "source": [
    "# # 说明：完美数又称为完全数或完备数，\n",
    "# 它的所有的真因子（即除了自身以外的因子）的和（即因子函数）恰好等于它本身。\n",
    "# 例如：6（$6=1+2+3$）和28（$28=1+2+4+7+14$）就是完美数\n",
    "\n",
    "num=0\n",
    "\n",
    "# 遍历是一定要遍历完才会结束吗，不是的，当下面有if条件时，满足条件后遍历就会停止\n",
    "#我选择的问题仍然是程序何时停止\n",
    "for i in range(1,1001):\n",
    "    for j in range(1,i):\n",
    "        if i%j==0:\n",
    "            num+=i\n",
    "    if num==i:\n",
    "        print(i,\"完美数\")\n",
    "        "
   ]
  },
  {
   "cell_type": "code",
   "execution_count": null,
   "metadata": {},
   "outputs": [],
   "source": [
    "# 输出100以内所有的素数。\n",
    "\n",
    "# 说明：素数指的是只能被1和自身整除的正整数（不包括1）。\n",
    "\n",
    "for i in range(1,101):\n",
    "    "
   ]
  },
  {
   "cell_type": "code",
   "execution_count": null,
   "metadata": {},
   "outputs": [],
   "source": []
  }
 ],
 "metadata": {
  "kernelspec": {
   "display_name": "Python 3",
   "language": "python",
   "name": "python3"
  },
  "language_info": {
   "codemirror_mode": {
    "name": "ipython",
    "version": 3
   },
   "file_extension": ".py",
   "mimetype": "text/x-python",
   "name": "python",
   "nbconvert_exporter": "python",
   "pygments_lexer": "ipython3",
   "version": "3.7.6"
  }
 },
 "nbformat": 4,
 "nbformat_minor": 5
}
