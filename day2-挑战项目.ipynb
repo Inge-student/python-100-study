{
 "cells": [
  {
   "cell_type": "markdown",
   "id": "72eff9f5",
   "metadata": {},
   "source": [
    "# 学习方法改进\n",
    "1,完成课后练习\n"
   ]
  },
  {
   "cell_type": "markdown",
   "id": "3a1837dc",
   "metadata": {},
   "source": [
    "## 知识点\n",
    "for..in循环和while循环的区别？\n",
    "需要注意的是break只能终止它所在的那个循环，这一点在使用嵌套的循环结构（下面会讲到）需要引起注意。除了break之外，还有另一个关键字是continue，它可以用来放弃本次循环后续的代码直接让循环进入下一轮。\n"
   ]
  },
  {
   "cell_type": "code",
   "execution_count": 25,
   "id": "03b1c8c9",
   "metadata": {},
   "outputs": [
    {
     "name": "stdout",
     "output_type": "stream",
     "text": [
      "5050\n",
      "2550\n",
      "2550\n",
      "1*1=1  \n",
      "2*1=2  2*2=4  \n",
      "3*1=3  3*2=6  3*3=9  \n",
      "4*1=4  4*2=8  4*3=12  4*4=16  \n",
      "5*1=5  5*2=10  5*3=15  5*4=20  5*5=25  \n",
      "6*1=6  6*2=12  6*3=18  6*4=24  6*5=30  6*6=36  \n",
      "7*1=7  7*2=14  7*3=21  7*4=28  7*5=35  7*6=42  7*7=49  \n",
      "8*1=8  8*2=16  8*3=24  8*4=32  8*5=40  8*6=48  8*7=56  8*8=64  \n",
      "9*1=9  9*2=18  9*3=27  9*4=36  9*5=45  9*6=54  9*7=63  9*8=72  9*9=81  \n"
     ]
    }
   ],
   "source": [
    "# 用for循环实现1~100求和\n",
    "sum=0\n",
    "for i in range(101):\n",
    "    sum+=i\n",
    "print(sum)\n",
    "# 用for循环实现1~100之间的偶数求和\n",
    "sum1=0\n",
    "for j in range(2,101,2):\n",
    "    sum1+=j\n",
    "print(sum1)\n",
    "# 也可以通过在循环中使用分支结构的方式来实现相同的功能\n",
    "sum3=0\n",
    "for j in range(101):\n",
    "    if j%2==0:\n",
    "        sum3+=j\n",
    "print(sum3)\n",
    "        \n",
    "# 猜数字游戏的规则是：\n",
    "# 计算机出一个1到100之间的随机数，玩家输入自己猜的数字，计算机给出对应的提示信息（大一点、小一点或猜对了），\n",
    "# 如果玩家猜中了数字，计算机提示用户一共猜了多少次，游戏结束，否则游戏继续。\n",
    "import random\n",
    "answer = random.randint(1, 100)\n",
    "counter=0\n",
    "\n",
    "# 嵌套的循环来输出一个九九乘法表\n",
    "\n",
    "for i in range(1,10):\n",
    "    for j in range(1,i+1):\n",
    "        sum=i*j\n",
    "        print('%d*%d=%d'%(i,j,sum),' ',end='')\n",
    "    print()\n",
    "\n"
   ]
  },
  {
   "cell_type": "code",
   "execution_count": 8,
   "id": "863d96bc",
   "metadata": {},
   "outputs": [
    {
     "name": "stdout",
     "output_type": "stream",
     "text": [
      "请输入长度：44\n",
      "请输入当前的单位：yc\n",
      "请输入转换后的单位：cm\n",
      "44.000000英寸=1.117600cm\n"
     ]
    }
   ],
   "source": [
    "## 英制单位英寸与公制单位厘米互换\n",
    "# 1英寸=25.4毫米 ,1英尺（1'）=12英寸(12\")\n",
    "length = float(input(\"请输入长度：\"))\n",
    "a=input(\"请输入当前的单位：\")\n",
    "b=input(\"请输入转换后的单位：\")\n",
    "if a==\"yc\" and b==\"cm\":\n",
    "    c=length*25.4*0.001\n",
    "    print('%f英寸=%fcm'%(length,c))\n",
    "else:\n",
    "    c=float(a)*1000/25.4\n",
    "    print('%f英寸=%fcm'%(length,c))\n",
    "    \n"
   ]
  },
  {
   "cell_type": "code",
   "execution_count": 13,
   "id": "0ab9c0bc",
   "metadata": {},
   "outputs": [
    {
     "name": "stdout",
     "output_type": "stream",
     "text": [
      "请输入份数：67\n",
      "对应的等级为： d\n"
     ]
    }
   ],
   "source": [
    "## 百分制成绩转换为等级制成绩。\n",
    "'''要求：\n",
    "如果输入的成绩在90分以上（含90分）输出A；\n",
    "80分-90分（不含90分）输出B；\n",
    "70分-80分（不含80分）输出C；\n",
    "60分-70分（不含70分）输出D；\n",
    "60分以下输出E。\n",
    "'''\n",
    "score=float(input(\"请输入份数：\"))\n",
    "if score>=90:\n",
    "    grade='A'\n",
    "elif 80<=score<90:\n",
    "    grade='B'\n",
    "elif 70<=score<80:\n",
    "    grade='c'\n",
    "else:\n",
    "    grade='d'\n",
    "print('对应的等级为：',grade)\n",
    "    \n",
    "\n"
   ]
  },
  {
   "cell_type": "code",
   "execution_count": 18,
   "id": "fd298b17",
   "metadata": {},
   "outputs": [
    {
     "name": "stdout",
     "output_type": "stream",
     "text": [
      "请输入三角形的第一条边：5\n",
      "请输入三角形的第二条边：7\n",
      "请输入三角形的第三条边：9\n",
      "21.0\n"
     ]
    }
   ],
   "source": [
    "## 输入三条边长，如果能构成三角形就计算周长和面积。\n",
    "length1=float(input('请输入三角形的第一条边：'))\n",
    "length2=float(input('请输入三角形的第二条边：'))\n",
    "length3=float(input('请输入三角形的第三条边：'))\n",
    "\n",
    "#是否构成三角形\n",
    "if length1+length2>length3 or length1+length3>length2 or length2+length3>length1\\\n",
    "and length1-length2<length3 or length1-length3<length2 or length2-length3<length1:\n",
    "    zhouchang=length1+length2+length3\n",
    "    print(zhouchang)\n",
    "else:\n",
    "    print('三条边不构成三角形')\n",
    "    \n",
    "    \n"
   ]
  },
  {
   "cell_type": "code",
   "execution_count": 38,
   "id": "52fde0ee",
   "metadata": {
    "scrolled": false
   },
   "outputs": [
    {
     "name": "stdout",
     "output_type": "stream",
     "text": [
      "请输入一个正整数：6\n",
      "6不是素数\n"
     ]
    }
   ],
   "source": [
    "## 练习1：输入一个正整数判断是不是素数。\n",
    "# 提示：素数指的是只能被1和自身整除的大于1的整数。 就是要求除1和自身外，其它全部有余数，只要有一个没有余数就不是素数，所以找特殊情况使用排除法\n",
    "num=int(input('请输入一个正整数：'))\n",
    "\n",
    "is_prime=True\n",
    "for i in range(1,num+1):\n",
    "    if num%i==0:\n",
    "        is_prime=False\n",
    "        break\n",
    "    \n",
    "if  is_prime and num>1:\n",
    "    print(num,'是素数')\n",
    "else:\n",
    "    print('%d不是素数'%num)\n",
    "        \n",
    "is_prime=True\n",
    "for i in range(2，num+1):\n",
    "    if num%!=0:\n"
   ]
  },
  {
   "cell_type": "code",
   "execution_count": null,
   "id": "0c79db80",
   "metadata": {},
   "outputs": [],
   "source": [
    "## 输入两个正整数，计算它们的最大公约数和最小公倍数。\n",
    "# 提示：两个数的最大公约数是两个数的公共因子中最大的那个数；两个数的最小公倍数则是能够同时被两个数整除的最小的那个数。\n",
    "num1=int(input('请输入一个正整数：'))\n",
    "num2=int(input('请输入一个正整数：'))\n",
    "\n",
    "num=[]\n",
    "for i in range(1,num2+1):\n",
    "     if num2%i==0 and num1%i==0:\n",
    "            \n",
    "            \n",
    "    "
   ]
  },
  {
   "cell_type": "code",
   "execution_count": 8,
   "id": "9621152f",
   "metadata": {},
   "outputs": [
    {
     "name": "stdout",
     "output_type": "stream",
     "text": [
      "请输入一个正整数：4\n",
      "\n",
      "*\n",
      "**\n",
      "***\n",
      "   *\n",
      "  **\n",
      " ***\n",
      "****\n",
      "   *\n",
      "  ***\n",
      " *****\n",
      "*******\n"
     ]
    }
   ],
   "source": [
    "'''打印如下所示的三角形图案。\n",
    "*\n",
    "**\n",
    "***\n",
    "****\n",
    "*****\n",
    "    *\n",
    "   **\n",
    "  ***\n",
    " ****\n",
    "*****\n",
    "    *\n",
    "   ***\n",
    "  *****\n",
    " *******\n",
    "*********'''\n",
    "row=int(input('请输入一个正整数：'))\n",
    "for i in range(row):\n",
    "    for _ in range(i):\n",
    "        print('*',end='')\n",
    "    print()\n",
    "\n",
    "for i in range(row):\n",
    "    for j in range(row):\n",
    "        if j<row-i-1:\n",
    "            print(' ',end='')\n",
    "        else:\n",
    "            print('*',end=\"\")\n",
    "    print()\n",
    "\n",
    "for i in range(row):\n",
    "    for j in range(row):\n",
    "        if j<row-i-1:\n",
    "            print(' ',end='')\n",
    "    for _ in range(2*i+1):\n",
    "        print('*',end='')\n",
    "    print()"
   ]
  },
  {
   "cell_type": "code",
   "execution_count": 41,
   "id": "8d88bdea",
   "metadata": {},
   "outputs": [
    {
     "name": "stdout",
     "output_type": "stream",
     "text": [
      "请输入一个正整数: 17\n",
      "17是素数\n"
     ]
    }
   ],
   "source": [
    "from math import sqrt\n",
    "\n",
    "num = int(input('请输入一个正整数: '))\n",
    "end = int(sqrt(num))\n",
    "is_prime = True\n",
    "for x in range(2, end + 1):\n",
    "    if num % x == 0:\n",
    "        is_prime = False\n",
    "        \n",
    "if is_prime and num != 1:\n",
    "    print('%d是素数' % num)\n",
    "else:\n",
    "    print('%d不是素数' % num)"
   ]
  },
  {
   "cell_type": "code",
   "execution_count": 42,
   "id": "9b0ea848",
   "metadata": {},
   "outputs": [
    {
     "name": "stdout",
     "output_type": "stream",
     "text": [
      "x = 8\n",
      "y = 10\n",
      "8和10的最大公约数是2\n",
      "8和10的最小公倍数是40\n"
     ]
    }
   ],
   "source": [
    "x = int(input('x = '))\n",
    "y = int(input('y = '))\n",
    "# 如果x大于y就交换x和y的值\n",
    "if x > y:\n",
    "    # 通过下面的操作将y的值赋给x, 将x的值赋给y\n",
    "    x, y = y, x\n",
    "# 从两个数中较的数开始做递减的循环\n",
    "for factor in range(x, 0, -1):\n",
    "    if x % factor == 0 and y % factor == 0:\n",
    "        print('%d和%d的最大公约数是%d' % (x, y, factor))\n",
    "        print('%d和%d的最小公倍数是%d' % (x, y, x * y // factor))\n",
    "        break"
   ]
  },
  {
   "cell_type": "code",
   "execution_count": 61,
   "id": "e251fde7",
   "metadata": {},
   "outputs": [
    {
     "name": "stdout",
     "output_type": "stream",
     "text": [
      "请输入一个正整数：4\n",
      "   *\n",
      "  **\n",
      " ***\n",
      "****\n",
      "   *\n",
      "  **\n",
      " ***\n",
      "****\n",
      "   *\n",
      "  ***\n",
      " *****\n",
      "*******\n"
     ]
    }
   ],
   "source": [
    "row=int(input('请输入一个正整数：'))\n",
    "for i in range(row):\n",
    "    for j in range(row):\n",
    "        if j < row - i - 1:\n",
    "            print(' ', end='')\n",
    "        else:\n",
    "            print('*', end='')\n",
    "    print()\n",
    "\n",
    "for i in range(row):\n",
    "    for j in range(row):\n",
    "        if j < row - i - 1:\n",
    "            print(' ', end='')\n",
    "        else:\n",
    "            print('*', end='')\n",
    "    print()\n",
    "    \n",
    "for i in range(row):\n",
    "    for _ in range(row - i - 1):\n",
    "        print(' ', end='')\n",
    "    for _ in range(2 * i + 1):\n",
    "        print('*', end='')\n",
    "    print()"
   ]
  }
 ],
 "metadata": {
  "kernelspec": {
   "display_name": "Python 3",
   "language": "python",
   "name": "python3"
  },
  "language_info": {
   "codemirror_mode": {
    "name": "ipython",
    "version": 3
   },
   "file_extension": ".py",
   "mimetype": "text/x-python",
   "name": "python",
   "nbconvert_exporter": "python",
   "pygments_lexer": "ipython3",
   "version": "3.8.8"
  }
 },
 "nbformat": 4,
 "nbformat_minor": 5
}
