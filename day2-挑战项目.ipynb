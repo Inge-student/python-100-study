{
 "cells": [
  {
   "cell_type": "code",
   "execution_count": null,
   "id": "e3ba0688",
   "metadata": {},
   "outputs": [],
   "source": []
  },
  {
   "cell_type": "markdown",
   "id": "0f2ce6d0",
   "metadata": {},
   "source": [
    "## 知识点\n",
    "一个变量用于存储第一个加数，第一个加数其实保存的是以前所有数据之和，默认初始化值应该是0.\n",
    "一个变量用于存储第二个加数，第二个加数其实就是每次的数据变化的值。"
   ]
  },
  {
   "cell_type": "code",
   "execution_count": 8,
   "id": "d760e9c9",
   "metadata": {},
   "outputs": [
    {
     "name": "stdout",
     "output_type": "stream",
     "text": [
      "请输入长度：44\n",
      "请输入当前的单位：yc\n",
      "请输入转换后的单位：cm\n",
      "44.000000英寸=1.117600cm\n"
     ]
    }
   ],
   "source": [
    "## 英制单位英寸与公制单位厘米互换\n",
    "# 1英寸=25.4毫米 ,1英尺（1'）=12英寸(12\")\n",
    "length = float(input(\"请输入长度：\"))\n",
    "a=input(\"请输入当前的单位：\")\n",
    "b=input(\"请输入转换后的单位：\")\n",
    "if a==\"yc\" and b==\"cm\":\n",
    "    c=length*25.4*0.001\n",
    "    print('%f英寸=%fcm'%(length,c))\n",
    "else:\n",
    "    c=float(a)*1000/25.4\n",
    "    print('%f英寸=%fcm'%(length,c))\n",
    "    \n"
   ]
  },
  {
   "cell_type": "code",
   "execution_count": 13,
   "id": "04e679aa",
   "metadata": {},
   "outputs": [
    {
     "name": "stdout",
     "output_type": "stream",
     "text": [
      "请输入份数：67\n",
      "对应的等级为： d\n"
     ]
    }
   ],
   "source": [
    "## 百分制成绩转换为等级制成绩。\n",
    "'''要求：\n",
    "如果输入的成绩在90分以上（含90分）输出A；\n",
    "80分-90分（不含90分）输出B；\n",
    "70分-80分（不含80分）输出C；\n",
    "60分-70分（不含70分）输出D；\n",
    "60分以下输出E。\n",
    "'''\n",
    "score=float(input(\"请输入份数：\"))\n",
    "if score>=90:\n",
    "    grade='A'\n",
    "elif 80<=score<90:\n",
    "    grade='B'\n",
    "elif 70<=score<80:\n",
    "    grade='c'\n",
    "else:\n",
    "    grade='d'\n",
    "print('对应的等级为：',grade)\n",
    "    \n",
    "\n"
   ]
  },
  {
   "cell_type": "code",
   "execution_count": 18,
   "id": "2ce551b2",
   "metadata": {},
   "outputs": [
    {
     "name": "stdout",
     "output_type": "stream",
     "text": [
      "请输入三角形的第一条边：5\n",
      "请输入三角形的第二条边：7\n",
      "请输入三角形的第三条边：9\n",
      "21.0\n"
     ]
    }
   ],
   "source": [
    "## 输入三条边长，如果能构成三角形就计算周长和面积。\n",
    "length1=float(input('请输入三角形的第一条边：'))\n",
    "length2=float(input('请输入三角形的第二条边：'))\n",
    "length3=float(input('请输入三角形的第三条边：'))\n",
    "\n",
    "#是否构成三角形\n",
    "if length1+length2>length3 or length1+length3>length2 or length2+length3>length1\\\n",
    "and length1-length2<length3 or length1-length3<length2 or length2-length3<length1:\n",
    "    zhouchang=length1+length2+length3\n",
    "    print(zhouchang)\n",
    "else:\n",
    "    print('三条边不构成三角形')\n",
    "    \n",
    "    \n"
   ]
  },
  {
   "cell_type": "code",
   "execution_count": 38,
   "id": "af96338d",
   "metadata": {
    "scrolled": false
   },
   "outputs": [
    {
     "name": "stdout",
     "output_type": "stream",
     "text": [
      "请输入一个正整数：6\n",
      "6不是素数\n"
     ]
    }
   ],
   "source": [
    "## 练习1：输入一个正整数判断是不是素数。\n",
    "# 提示：素数指的是只能被1和自身整除的大于1的整数。 \n",
    "num=int(input('请输入一个正整数：'))\n",
    "\n",
    "is_prime=True\n",
    "for i in range(1,num+1):\n",
    "    if num%i==0:\n",
    "        is_prime=False\n",
    "        break\n",
    "    \n",
    "if  is_prime and num>1:\n",
    "    print(num,'是素数')\n",
    "else:\n",
    "    print('%d不是素数'%num)\n",
    "        \n",
    "\n"
   ]
  },
  {
   "cell_type": "code",
   "execution_count": null,
   "id": "2ade39ad",
   "metadata": {},
   "outputs": [],
   "source": [
    "## 输入两个正整数，计算它们的最大公约数和最小公倍数。\n",
    "# 提示：两个数的最大公约数是两个数的公共因子中最大的那个数；两个数的最小公倍数则是能够同时被两个数整除的最小的那个数。\n",
    "num1=int(input('请输入一个正整数：'))\n",
    "num2=int(input('请输入一个正整数：'))\n",
    "\n",
    "num=[]\n",
    "for i in range(1,num2+1):\n",
    "     if num2%i==0 and num1%i==0:\n",
    "            \n",
    "            \n",
    "    "
   ]
  },
  {
   "cell_type": "code",
   "execution_count": 57,
   "id": "2e664fe0",
   "metadata": {},
   "outputs": [
    {
     "name": "stdout",
     "output_type": "stream",
     "text": [
      "请输入行数: 4\n",
      "*\n",
      "**\n",
      "***\n",
      "****\n",
      "*\n",
      "**\n",
      "***\n",
      "****\n"
     ]
    }
   ],
   "source": [
    "'''打印如下所示的三角形图案。\n",
    "*\n",
    "**\n",
    "***\n",
    "****\n",
    "*****\n",
    "    *\n",
    "   **\n",
    "  ***\n",
    " ****\n",
    "*****\n",
    "    *\n",
    "   ***\n",
    "  *****\n",
    " *******\n",
    "*********'''\n",
    "row = int(input('请输入行数: '))\n",
    "for i in range(row):\n",
    "    for _ in range(i + 1):\n",
    "        print('*', end='')\n",
    "    print()\n",
    "    \n",
    "# for i in  range(row):\n",
    "#     for j in range (row,0,-1):\n",
    "#         print('',end='')\n",
    "#     print('*',end='')\n",
    "#     print()#作用是换行，可是逻辑是什么？是怎么做到的呢？\n",
    "\n",
    "for i in range(row):\n",
    "    for j in range(row):\n",
    "        if j<row-i-1:\n",
    "            print('',end='')\n",
    "        elif j<:\n",
    "            print('*',end='')\n",
    "    print()"
   ]
  },
  {
   "cell_type": "code",
   "execution_count": 41,
   "id": "f1ff26bb",
   "metadata": {},
   "outputs": [
    {
     "name": "stdout",
     "output_type": "stream",
     "text": [
      "请输入一个正整数: 17\n",
      "17是素数\n"
     ]
    }
   ],
   "source": [
    "from math import sqrt\n",
    "\n",
    "num = int(input('请输入一个正整数: '))\n",
    "end = int(sqrt(num))\n",
    "is_prime = True\n",
    "for x in range(2, end + 1):\n",
    "    if num % x == 0:\n",
    "        is_prime = False\n",
    "        \n",
    "if is_prime and num != 1:\n",
    "    print('%d是素数' % num)\n",
    "else:\n",
    "    print('%d不是素数' % num)"
   ]
  },
  {
   "cell_type": "code",
   "execution_count": 42,
   "id": "93e763d0",
   "metadata": {},
   "outputs": [
    {
     "name": "stdout",
     "output_type": "stream",
     "text": [
      "x = 8\n",
      "y = 10\n",
      "8和10的最大公约数是2\n",
      "8和10的最小公倍数是40\n"
     ]
    }
   ],
   "source": [
    "x = int(input('x = '))\n",
    "y = int(input('y = '))\n",
    "# 如果x大于y就交换x和y的值\n",
    "if x > y:\n",
    "    # 通过下面的操作将y的值赋给x, 将x的值赋给y\n",
    "    x, y = y, x\n",
    "# 从两个数中较的数开始做递减的循环\n",
    "for factor in range(x, 0, -1):\n",
    "    if x % factor == 0 and y % factor == 0:\n",
    "        print('%d和%d的最大公约数是%d' % (x, y, factor))\n",
    "        print('%d和%d的最小公倍数是%d' % (x, y, x * y // factor))\n",
    "        break"
   ]
  },
  {
   "cell_type": "code",
   "execution_count": 61,
   "id": "77ce1f08",
   "metadata": {},
   "outputs": [
    {
     "name": "stdout",
     "output_type": "stream",
     "text": [
      "请输入一个正整数：4\n",
      "   *\n",
      "  **\n",
      " ***\n",
      "****\n",
      "   *\n",
      "  **\n",
      " ***\n",
      "****\n",
      "   *\n",
      "  ***\n",
      " *****\n",
      "*******\n"
     ]
    }
   ],
   "source": [
    "row=int(input('请输入一个正整数：'))\n",
    "for i in range(row):\n",
    "    for j in range(row):\n",
    "        if j < row - i - 1:\n",
    "            print(' ', end='')\n",
    "        else:\n",
    "            print('*', end='')\n",
    "    print()\n",
    "\n",
    "for i in range(row):\n",
    "    for j in range(row):\n",
    "        if j < row - i - 1:\n",
    "            print(' ', end='')\n",
    "        else:\n",
    "            print('*', end='')\n",
    "    print()\n",
    "    \n",
    "for i in range(row):\n",
    "    for _ in range(row - i - 1):\n",
    "        print(' ', end='')\n",
    "    for _ in range(2 * i + 1):\n",
    "        print('*', end='')\n",
    "    print()"
   ]
  }
 ],
 "metadata": {
  "kernelspec": {
   "display_name": "Python 3",
   "language": "python",
   "name": "python3"
  },
  "language_info": {
   "codemirror_mode": {
    "name": "ipython",
    "version": 3
   },
   "file_extension": ".py",
   "mimetype": "text/x-python",
   "name": "python",
   "nbconvert_exporter": "python",
   "pygments_lexer": "ipython3",
   "version": "3.8.8"
  }
 },
 "nbformat": 4,
 "nbformat_minor": 5
}
