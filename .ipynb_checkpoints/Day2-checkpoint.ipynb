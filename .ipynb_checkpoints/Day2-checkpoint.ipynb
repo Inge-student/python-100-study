{
 "cells": [
  {
   "cell_type": "markdown",
   "metadata": {},
   "source": [
    "# 疑问：对运算符这些基础概念类的要掌握到什么程度\n",
    "- 我可以现在记住，但是过几天后就会忘记！那是等到需要用到时再查，还是选择记住后抗遗忘。"
   ]
  },
  {
   "cell_type": "markdown",
   "metadata": {},
   "source": [
    "# 程序与指令\n",
    "- 指令： 是一串能被计算机送别和执行的二进制代码。\n",
    "- 程序： 一条条顺序排列的指令组成一段程序\n",
    "- 今天我们使用的计算机，本质上来说还是冯 诺依曼结构的计算机，而冯诺依曼结构有两个关键点：\n",
    "    - 计算机的硬件系统由五大部件构成，包括：运算器，控制器，存储器，输入输出设备。 运算器和控制器放在一起就是我们常说的中央处理器。\n",
    "    存储设备和中央处理器要分开\n",
    "    - 二是提出数据以二进制方式编码。"
   ]
  },
  {
   "cell_type": "markdown",
   "metadata": {},
   "source": [
    "# 变量和类型\n",
    "- 变量 ： 计算机中的变量是实际存在的数据 或者说是存储器中存储数据的一块内存空间。变量的值可以被读取和修改\n",
    "- 类型：\n",
    "    - int()\n",
    "    - float()\n",
    "    - str()字符串型\n",
    "        - chr() 将整数转换成该编码对应的字符串\n",
    "        - ord() 将字符串 转换成对应的编码（整数）\n",
    "    - 布尔型 ： 只有True , False\n",
    "    - 复数型"
   ]
  },
  {
   "cell_type": "markdown",
   "metadata": {},
   "source": [
    "# 变量命名\n",
    "- 变量命名需要遵循硬性规定和强烈建议的非硬性规定\n",
    "- 硬性规定\n",
    "    - 变量名由字母，数字和下划线组成，数字不能开头\n",
    "    - 区分大小写， A与a 表示不同的变量\n",
    "    - 不要跟关键词（有特殊含义的单词 ）和系统保留字（如 函数，模块等的名字）冲突\n",
    "- PEP8 要求\n",
    "    - 用小写字母拼成，多个单词用下划线连接\n",
    "    - 受保护的实例属性用单个下划线开头\n",
    "    - 私有的实例属性用2个下划线开头\n",
    "    - 给变量（事实上是所有的标识符）命名时，要做到见名知意"
   ]
  },
  {
   "cell_type": "code",
   "execution_count": 3,
   "metadata": {},
   "outputs": [
    {
     "name": "stdout",
     "output_type": "stream",
     "text": [
      "a = 1\n",
      "b = 5\n",
      "1 + 5 = 6\n",
      "1**5 = 1\n"
     ]
    }
   ],
   "source": [
    "a = int(input('a = '))\n",
    "b = int(input('b = '))\n",
    "print('%d + %d = %d'%(a,b,a+b))\n",
    "print('%d**%d = %d'% (a,b,a**b))"
   ]
  },
  {
   "cell_type": "markdown",
   "metadata": {},
   "source": [
    "# 运算符\n",
    "- 占位符\n",
    "    - %d 整数的占位符\n",
    "    - %f 小数的占位符\n",
    "    - %% 百分号（因为% 表示占位符，同时也表示百分号，所有在python中表示百分号，用%%表示\n",
    "    - % ， 字符串之后的% 后面跟的变量值会替换占位符然后输出到终端\n",
    "    - %1.f 浮点数的占位符， 输出保留一位小数的浮点数\n",
    "    - %9f  表示打印长度9位数，小数点也占一位，不够的左侧补空格\n",
    "    - %s 是字符串的占位符"
   ]
  },
  {
   "cell_type": "raw",
   "metadata": {},
   "source": [
    "运算符\t描述\n",
    "[] [:]\t下标，切片\n",
    "    - 下标被用于索引\n",
    "**\t指数\n",
    "~ + -\t按位取反, 正负号\n",
    "    - 计算机中的数值是以二进制的方式存储的，而且是以补码的方式存储的，数值的运算也是以补码的形式进行运算。我们通常看到的数据一般是十进制数，可以简单地理解为计算机将补码转换成原码，并将原码以二进制的形式显示出来\n",
    "    - 原码： 就是占位符加上真值的绝对值，即用第一位表示符号，其余位表示值\n",
    "    - 补码：计算机三种机械数的一种，机械数有原码，补码，反码\n",
    "    - 正数的反码是其本身 ， 负数的反码是符号位不变，其它各位取反，\n",
    "    - 正数的补码就是其本身 ， 负数的补码是在其原码的基础上，符号位不变，其余各位取反，最后+1（即在反码的基础上加1）\n",
    "    - ~a = -(a+1)\n",
    "* / % //\t乘，除，模，整除\n",
    "    - 模\n",
    "    - 整除 \n",
    "+ -\t加，减\n",
    ">> <<\t右移，左移\n",
    "&\t按位与\n",
    "    - 在Series,DataFrame中s1 % s2.shift(1)\n",
    "    - 将参与运算的两数个对应的二进位相与，只有对应的两个二进位都为1，结果位才为1  (and)\n",
    "^ |\t按位异或，按位或\n",
    "    - 按位或，只有有1出现，或的结果就为1，只有0|0 =0 (or,左边为1，右边为0，仍为1)\n",
    "    - 按位异或，1异或1，0异或0都为0，0和1都出现是结果就为1  \n",
    "<= < > >=\t小于等于，小于，大于，大于等于\n",
    "== !=\t等于，不等于\n",
    "is is not\t身份运算符\n",
    "in not in\t成员运算符\n",
    "not or and\t逻辑运算符\n",
    "= += -= *= /= %= //= **= &= `\t= ^= >>= <<=`\n",
    "- 在实际开发中，如果搞不清运算符的优先级，可以使用括号来确保运算的执行顺序"
   ]
  },
  {
   "cell_type": "code",
   "execution_count": 16,
   "metadata": {},
   "outputs": [
    {
     "name": "stdout",
     "output_type": "stream",
     "text": [
      "2\n",
      "2.0\n",
      "24.0\n",
      "-3\n",
      "-3\n",
      "-3\n",
      "-3\n",
      "1\n",
      "1\n",
      "-1\n",
      "9\n",
      "3\n"
     ]
    }
   ],
   "source": [
    "#整除, 得到的结果是商， 在分子/分母中有一个是浮点数时，得到的结果商就是浮点数类型\n",
    "a = 5//2\n",
    "print(a)\n",
    "print(5.0//2)\n",
    "print(5//0.2)\n",
    "# 负数采取的是向下取整，即向负无穷方向取最接近精确值的整数\n",
    "print(5//-2)\n",
    "print(-5//2)\n",
    "#向零取整，即向0靠近\n",
    "print(int(-5//2))\n",
    "print(int(5//-2))\n",
    "#取模，返回除法的余数\n",
    "print(5%2)\n",
    "print(-5%2)\n",
    "print(5%-2)\n",
    "print(-21%10)\n",
    "print(-5%4)\n",
    "#-21 //10 =-3， -21-（-3）*10 = 9"
   ]
  },
  {
   "cell_type": "code",
   "execution_count": 17,
   "metadata": {},
   "outputs": [
    {
     "name": "stdout",
     "output_type": "stream",
     "text": [
      "195\n"
     ]
    }
   ],
   "source": [
    "# 赋值运算符\n",
    "a = 10\n",
    "b = 3\n",
    "a +=b #相当于  a = a+b\n",
    "a *=a+2  #相当于   a = a*(a+2)\n",
    "print(a)"
   ]
  },
  {
   "cell_type": "markdown",
   "metadata": {},
   "source": [
    "# 比较运算符 ：== != < <=  >   >=\n",
    "- 比较运算符产生布尔值， True , False\n",
    "\n",
    "- 逻辑运算符\n",
    "    - and\n",
    "    - or \n",
    "        - True or True  / True or False  因为左边为True， 右边表达式根本不会执行\n",
    "- 比较运算符 的优先级高于赋值运算符，如下："
   ]
  },
  {
   "cell_type": "code",
   "execution_count": 18,
   "metadata": {},
   "outputs": [
    {
     "name": "stdout",
     "output_type": "stream",
     "text": [
      "flag = True\n",
      "flag1 = True\n"
     ]
    }
   ],
   "source": [
    "flag = 1==1\n",
    "flag1 = 3>2\n",
    "flag2 = 2<1\n",
    "flag3 = flag1 and flag2\n",
    "flag4 = flag1 or flag2\n",
    "flag5 = not(1!=2)\n",
    "print('flag =',flag)\n",
    "print('flag1 =',flag1)\n",
    "# print 函数可以输出多个值 ， 多个值之间可以用 ， 进行分隔，输出的内容之间默认以空格分开"
   ]
  },
  {
   "cell_type": "code",
   "execution_count": 27,
   "metadata": {},
   "outputs": [
    {
     "name": "stdout",
     "output_type": "stream",
     "text": [
      "请输入华氏温度 ：78.8\n",
      "78.8华氏度 = 2.6 摄氏度\n",
      "请输入圆的半径：5\n",
      "周长：31.42\n",
      "面积：78.54\n",
      "请输入年份：2555\n",
      "闰年为 2555:\n"
     ]
    }
   ],
   "source": [
    "f = float(input('请输入华氏温度 ：'))\n",
    "c = (f - 32)/18\n",
    "print('%.1f华氏度 = %.1f 摄氏度'% (f,c))\n",
    "\n",
    "radius = float(input('请输入圆的半径：'))\n",
    "perimeter = 2*3.1416 * radius\n",
    "area = 3.1416 * radius*radius\n",
    "print(\"周长：%.2f\"%perimeter)\n",
    "print('面积：%.2f'% area)\n",
    "\n",
    "#闰年的判断方法\n",
    "#1, 普通年能被4 整除且不能被100整除的\n",
    "#2, 世纪年能被400整除的\n",
    "#对很大的年份 ， 这年如果能够整除3200 ， 并且能够整除172800\n",
    "\n",
    "year = int(input('请输入年份：'))\n",
    "\n",
    "leap_year = (year%4) ==0 and (year%100) !=0 \\\n",
    "or (year%400 )==0\\\n",
    "or (year%3200)==0 and (year%172800)==0\n",
    "print('闰年为 %d:'%year)\n",
    "\n",
    "#这里并没有判断 如果得到的不是闰年会怎么样？\n",
    "#我输入 2555，此时就无法判断"
   ]
  }
 ],
 "metadata": {
  "kernelspec": {
   "display_name": "Python 3",
   "language": "python",
   "name": "python3"
  },
  "language_info": {
   "codemirror_mode": {
    "name": "ipython",
    "version": 3
   },
   "file_extension": ".py",
   "mimetype": "text/x-python",
   "name": "python",
   "nbconvert_exporter": "python",
   "pygments_lexer": "ipython3",
   "version": "3.7.6"
  }
 },
 "nbformat": 4,
 "nbformat_minor": 4
}
