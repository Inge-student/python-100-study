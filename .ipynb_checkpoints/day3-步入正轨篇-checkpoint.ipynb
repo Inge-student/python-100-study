{
 "cells": [
  {
   "cell_type": "markdown",
   "metadata": {},
   "source": [
    "# 学习方法持续改进中"
   ]
  },
  {
   "cell_type": "markdown",
   "metadata": {},
   "source": [
    "## 学习知识"
   ]
  },
  {
   "cell_type": "code",
   "execution_count": 6,
<<<<<<< HEAD
   "id": "5b687b66",
=======
>>>>>>> babf9431624d8816b3d4f4db8c8531c585d50781
   "metadata": {},
   "outputs": [
    {
     "name": "stdout",
     "output_type": "stream",
     "text": [
      "153是水仙花数\n",
      "370是水仙花数\n",
      "371是水仙花数\n",
      "407是水仙花数\n"
     ]
    }
   ],
   "source": [
    "# 水仙花数也被称为超完全数字不变数、自恋数、自幂数、阿姆斯特朗数，\n",
    "# 它是一个3位数，该数字每个位上数字的立方之和正好等于它本身，\n",
    "# 例如：$1^3 + 5^3+ 3^3=153$。\n",
    "for i in range(1,10):\n",
    "    for j in range(10):\n",
    "        for k in range(10):\n",
    "            if i**3+j**3+k**3==i*100+j*10+k:\n",
    "                print('%d%d%d是水仙花数'%(i,j,k))\n",
    "                \n",
    "# #正着来失败，那可以反着来\n",
    "# for i in range(100,1000):\n",
    "#     if i==(i//100)**3+(i%10)**3+((i//10)%10)**3:\n",
    "#        print(i,'是水仙花数') \n",
    "    \n",
    "    "
   ]
  },
  {
   "cell_type": "code",
   "execution_count": null,
<<<<<<< HEAD
   "id": "cde06879",
=======
>>>>>>> babf9431624d8816b3d4f4db8c8531c585d50781
   "metadata": {},
   "outputs": [],
   "source": [
    "## 我们还可以实现将一个正整数反转，例如：将12345变成54321\n",
    "i= int(input('请输入一个正整数：'))\n",
    "num=0\n",
    "cishu=1\n",
    "if i<10:\n",
    "    num=i\n",
    "else:\n",
    "    while True:\n",
    "        a=i%10\n",
    "        b=i//10\n",
    "        c=b%10\n",
    "        if b<0:\n",
    "            \n",
    "            \n",
    "    "
   ]
  },
  {
   "cell_type": "code",
<<<<<<< HEAD
   "execution_count": 10,
   "id": "14ae29eb",
=======
   "execution_count": null,
>>>>>>> babf9431624d8816b3d4f4db8c8531c585d50781
   "metadata": {},
   "outputs": [
    {
     "name": "stdout",
     "output_type": "stream",
     "text": [
      "庄家赢\n",
      "庄家赢\n",
      "玩家赢\n",
      "庄家赢\n",
      "玩家赢\n",
      "玩家赢\n",
      "庄家赢\n",
      "玩家胜利\n"
     ]
    }
   ],
   "source": [
    "# 该游戏使用两粒骰子，玩家通过摇两粒骰子获得点数进行游戏。\n",
    "# 简单的规则是：玩家第一次摇骰子如果摇出了7点或11点，玩家胜；\n",
    "# 玩家第一次如果摇出2点、3点或12点，庄家胜；其他点数玩家继续摇骰子，如果玩家摇出了7点，庄家胜；\n",
    "# 如果玩家摇出了第一次摇的点数，玩家胜；其他点数，玩家继续要骰子，直到分出胜负。\n",
    "\n",
    "from random import randint\n",
    "\n",
    "while True:\n",
    "    cishu=False\n",
    "    first= randint(1,6)+randint(1,6)\n",
    "    if first==7 or first==11:\n",
    "        print('玩家胜利')\n",
    "        break\n",
    "    elif first==2 or first==3 or first==12:\n",
    "        print('庄家胜利')\n",
    "        break\n",
    "    else:\n",
    "        cishu=True\n",
    "        while cishu:\n",
    "            cishu=False\n",
    "            current=randint(1,6)+randint(1,6)\n",
    "            if current==7:\n",
    "                print('庄家赢')\n",
    "            elif current==first:  #有古怪，需要这次数字等于上次数字，上次数字也是流动的，因此也需要循环\n",
    "                print('玩家赢')\n",
    "            else:\n",
    "                cishu=True\n",
    "'''\n",
    "这个程序怎么结束呢？即使没有设置吓住，也应该有结束程序\n",
    "'''"
   ]
  },
  {
   "cell_type": "code",
   "execution_count": null,
   "id": "625606be",
   "metadata": {},
   "outputs": [],
   "source": [
<<<<<<< HEAD
    "##### from random import randint\n",
    "\n",
    "money = 1000\n",
    "while money > 0:\n",
    "    print('你的总资产为:', money)\n",
    "    needs_go_on = False\n",
    "    while True:\n",
    "        debt = int(input('请下注: '))\n",
    "        if 0 < debt <= money:\n",
    "            break\n",
    "    first = randint(1, 6) + randint(1, 6)\n",
    "    print('玩家摇出了%d点' % first)\n",
    "    if first == 7 or first == 11:\n",
    "        print('玩家胜!')\n",
    "        money += debt\n",
    "    elif first == 2 or first == 3 or first == 12:\n",
    "        print('庄家胜!')\n",
    "        money -= debt\n",
    "    else:\n",
    "        needs_go_on = True\n",
    "    while needs_go_on:\n",
    "        needs_go_on = False\n",
    "        current = randint(1, 6) + randint(1, 6)\n",
    "        print('玩家摇出了%d点' % current)\n",
    "        if current == 7:\n",
    "            print('庄家胜')\n",
    "            money -= debt\n",
    "        elif current == first:\n",
    "            print('玩家胜')\n",
    "            money += debt\n",
    "        else:\n",
    "            needs_go_on = True\n",
    "print('你破产了, 游戏结束!')\n"
=======
    "# Craps赌博游戏\n",
    "# 我们设定玩家开始游戏时有1000元的赌注\n",
    "# 游戏结束的条件是玩家输光所有的赌注\n",
    "\n",
    "wangjia=int(input('请输入1到12，包括12之内的正整数：'))\n",
    "money=1000\n",
    "if wangjia==7 or wangjia==11:\n",
    "    print('玩家赢了')\n",
    "elif wangjia in (2,3,12):\n",
    "    print(\"玩家输光了钱\")\n",
    "else:\n",
    "    cishu=True\n",
    "    while cishu:\n",
    "        cishu=False\n",
    "        wangjia2=int(input('请输入1到12，包括12之内的正整数：'))\n",
    "       \n",
    "        if wangjia2==7:\n",
    "            print(\"玩家输光了钱\")\n",
    "            \n",
    "        elif wangjia2==wangjia:\n",
    "            print('玩家赢了')\n",
    "        else:\n",
    "            cishu=True\n",
    "\n",
    "        \n"
>>>>>>> babf9431624d8816b3d4f4db8c8531c585d50781
   ]
  },
  {
   "cell_type": "code",
   "execution_count": null,
<<<<<<< HEAD
   "id": "d9f7a00f",
=======
>>>>>>> babf9431624d8816b3d4f4db8c8531c585d50781
   "metadata": {},
   "outputs": [],
   "source": [
    "## 生成斐波那契数列的前20个数。\n",
    "# 斐波那契数列的特点是数列的前两个数都是1，从第三个数开始，每个数都是它前面两个数的和，\n",
    "# 形如：1, 1, 2, 3, 5, 8, 13, 21, 34, 55, 89, 144, ...。\n",
    "\n",
    "num1=1\n",
    "num2=1\n",
    "shuzi=2\n",
    "print(num1,num2)\n",
    "cishu=True\n",
    "while cishu:\n",
    "    num1+=num2 #得到第3位数字，此后得到\n",
    "    num2+=num1 #得到第4位数字，此后得到\n",
    "    print(num1,num2)\n",
    "    shuzi+=2\n",
    "    if shuzi==20:\n",
    "        cishu=False\n",
    "    \n",
    "#程序怎么终止呢， \n"
   ]
  },
  {
   "cell_type": "code",
   "execution_count": null,
<<<<<<< HEAD
   "id": "0dc6ba38",
=======
>>>>>>> babf9431624d8816b3d4f4db8c8531c585d50781
   "metadata": {},
   "outputs": [],
   "source": [
    "a = 0\n",
    "b = 1\n",
    "for _ in range(20):\n",
    "    a, b = b, a + b\n",
    "    print(a, end=' ')"
   ]
  },
  {
   "cell_type": "code",
   "execution_count": null,
   "metadata": {},
   "outputs": [],
   "source": [
    "# 找出10000以内的完美数。\n",
    "# 说明：完美数又称为完全数或完备数，它的所有的真因子（即除了自身以外的因子）的和（即因子函数）恰好等于它本身。\n",
    "# 例如：6（$6=1+2+3$）和28（$28=1+2+4+7+14$）就是完美数。完美数有很多神奇的特性，有兴趣的可以自行了解。\n",
    "\n",
    "\n",
    "# 输出100以内所有的素数。\n",
    "# 说明：素数指的是只能被1和自身整除的正整数（不包括1）。"
   ]
  }
 ],
 "metadata": {
  "kernelspec": {
   "display_name": "Python 3",
   "language": "python",
   "name": "python3"
  },
  "language_info": {
   "codemirror_mode": {
    "name": "ipython",
    "version": 3
   },
   "file_extension": ".py",
   "mimetype": "text/x-python",
   "name": "python",
   "nbconvert_exporter": "python",
   "pygments_lexer": "ipython3",
   "version": "3.7.6"
  }
 },
 "nbformat": 4,
 "nbformat_minor": 5
}
