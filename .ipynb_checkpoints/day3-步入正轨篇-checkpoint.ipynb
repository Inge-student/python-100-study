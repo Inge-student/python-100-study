{
 "cells": [
  {
   "cell_type": "markdown",
   "id": "9530e1c9",
   "metadata": {},
   "source": [
    "# 学习方法持续改进中"
   ]
  },
  {
   "cell_type": "markdown",
   "id": "272d11ba",
   "metadata": {},
   "source": [
    "## 学习知识"
   ]
  },
  {
   "cell_type": "code",
   "execution_count": 7,
   "id": "55d02f31",
   "metadata": {},
   "outputs": [],
   "source": [
    "# 水仙花数也被称为超完全数字不变数、自恋数、自幂数、阿姆斯特朗数，\n",
    "# 它是一个3位数，该数字每个位上数字的立方之和正好等于它本身，\n",
    "# 例如：$1^3 + 5^3+ 3^3=153$。\n",
    "for i in range(1,10):\n",
    "    for j in range(i+1):\n",
    "        for k in range(j+1):\n",
    "            if i**3+j**3+k**3==i*100+j*10+k:\n",
    "                print('%d%d%d是水仙花数'%(i,j,k))\n",
    "                \n"
   ]
  },
  {
   "cell_type": "code",
   "execution_count": null,
   "id": "961885ba",
   "metadata": {},
   "outputs": [],
   "source": []
  },
  {
   "cell_type": "code",
   "execution_count": null,
   "id": "0a994760",
   "metadata": {},
   "outputs": [],
   "source": []
  },
  {
   "cell_type": "code",
   "execution_count": null,
   "id": "bd837652",
   "metadata": {},
   "outputs": [],
   "source": []
  },
  {
   "cell_type": "code",
   "execution_count": null,
   "id": "5fa24254",
   "metadata": {},
   "outputs": [],
   "source": []
  },
  {
   "cell_type": "code",
   "execution_count": null,
   "id": "c3739e5b",
   "metadata": {},
   "outputs": [],
   "source": []
  }
 ],
 "metadata": {
  "kernelspec": {
   "display_name": "Python 3",
   "language": "python",
   "name": "python3"
  },
  "language_info": {
   "codemirror_mode": {
    "name": "ipython",
    "version": 3
   },
   "file_extension": ".py",
   "mimetype": "text/x-python",
   "name": "python",
   "nbconvert_exporter": "python",
   "pygments_lexer": "ipython3",
   "version": "3.8.8"
  }
 },
 "nbformat": 4,
 "nbformat_minor": 5
}
