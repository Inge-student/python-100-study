{
 "cells": [
  {
   "cell_type": "markdown",
   "metadata": {},
   "source": [
    "# 分支结构应用场景\n",
    "- 爬虫中分页操作\n"
   ]
  },
  {
   "attachments": {},
   "cell_type": "markdown",
   "metadata": {},
   "source": [
    "# 问题收集\n",
    "- 建议大家不要使用制表键或者设置你的代码编辑工具自动将制表键变成4个空格。\n",
    "    - 因为不同平台对tab 键产开的空格数是不一样的，要么就统一用空格，要么就设置自己的平台tab产开4个空格。  我建议使用第二个方法\n",
    "- 出错了，这说明print中不能进行运算然后输出？\n",
    "    - 下边的计算否定了假设\n",
    "- 同时传入两个值时，要把这2个值括起来\n",
    "\n",
    "- else显示为无效语法\n",
    "\n",
    "    "
   ]
  },
  {
   "cell_type": "code",
   "execution_count": 38,
   "metadata": {},
   "outputs": [
    {
     "name": "stdout",
     "output_type": "stream",
     "text": [
      "10\n",
      "11\n",
      "和为11.000000\n"
     ]
    }
   ],
   "source": [
    "print(5+5)\n",
    "a =5\n",
    "b = 6\n",
    "print(a+b)\n",
    "print('和为%f'%(a+b))"
   ]
  },
  {
   "cell_type": "code",
   "execution_count": 41,
   "metadata": {},
   "outputs": [
    {
     "ename": "SyntaxError",
     "evalue": "invalid syntax (<ipython-input-41-3a8567490d4e>, line 3)",
     "output_type": "error",
     "traceback": [
      "\u001b[1;36m  File \u001b[1;32m\"<ipython-input-41-3a8567490d4e>\"\u001b[1;36m, line \u001b[1;32m3\u001b[0m\n\u001b[1;33m    print('y = %d'%3x-5)\u001b[0m\n\u001b[1;37m                    ^\u001b[0m\n\u001b[1;31mSyntaxError\u001b[0m\u001b[1;31m:\u001b[0m invalid syntax\n"
     ]
    }
   ],
   "source": [
    "x = input('请输入一个x:')\n",
    "if x>1:\n",
    "    print('y = %d'%3x-5)\n",
    "elif x<-1:\n",
    "     print('y = ',5x+3)\n",
    "else:\n",
    "    print('y = ',x+2)"
   ]
  },
  {
   "cell_type": "code",
   "execution_count": 11,
   "metadata": {},
   "outputs": [
    {
     "name": "stdout",
     "output_type": "stream",
     "text": [
      "请输入一个x的值：5\n",
      "当x = 5.000000,则y = 10.000000\n",
      "当x = 5.0,则y = 10.0\n",
      "f(5.0)=10.0\n"
     ]
    }
   ],
   "source": [
    "x = float(input('请输入一个x的值：'))\n",
    "if x>1:\n",
    "    y = 3*x-5\n",
    "elif x<-1:\n",
    "    y = 5*x+3\n",
    "else:\n",
    "    y = x+2\n",
    "print('当x = %f,则y = %f'%(x,y))\n",
    "#结果虽然出来了，但是有6位小数\n",
    "print('当x = %.1f,则y = %.1f'%(x,y))\n",
    "#也可以更标准输出\n",
    "print('f(%.1f)=%.1f'%(x,y))"
   ]
  },
  {
   "cell_type": "code",
   "execution_count": 13,
   "metadata": {},
   "outputs": [
    {
     "name": "stdout",
     "output_type": "stream",
     "text": [
      "请输入一个数值：5\n",
      "f(5.0)=10.0\n"
     ]
    }
   ],
   "source": [
    "x = float(input('请输入一个数值：'))\n",
    "if x>1:\n",
    "    y = 3*x-5\n",
    "else:\n",
    "    if x<-1:\n",
    "        y = 5*x+3\n",
    "    else:\n",
    "        y = x+2\n",
    "print('f(%.1f)=%.1f'%(x,y))"
   ]
  },
  {
   "cell_type": "code",
   "execution_count": 42,
   "metadata": {},
   "outputs": [
    {
     "ename": "SyntaxError",
     "evalue": "invalid syntax (<ipython-input-42-c8de5e1202ef>, line 10)",
     "output_type": "error",
     "traceback": [
      "\u001b[1;36m  File \u001b[1;32m\"<ipython-input-42-c8de5e1202ef>\"\u001b[1;36m, line \u001b[1;32m10\u001b[0m\n\u001b[1;33m    else:\u001b[0m\n\u001b[1;37m       ^\u001b[0m\n\u001b[1;31mSyntaxError\u001b[0m\u001b[1;31m:\u001b[0m invalid syntax\n"
     ]
    }
   ],
   "source": [
    "#知识补充：\n",
    "#1 英寸 = 2.54 厘米\n",
    "value = float(input('请输入一个数值：'))\n",
    "unit = input('请输入单位：')\n",
    "\n",
    "if unit == 'in' or unit=='英寸':\n",
    "    print('%.1f英寸 = %.1f厘米'%(value,value*2.54))\n",
    "elif unit == 'cm' or unit == '厘米':\n",
    "    print('%.1f英寸 = %.1f厘米'%(value / 2.54,value)\n",
    "else:\n",
    "    print('请输入有效单位')"
   ]
  },
  {
   "cell_type": "code",
   "execution_count": 31,
   "metadata": {},
   "outputs": [
    {
     "name": "stdout",
     "output_type": "stream",
     "text": [
      "请输入一个数值：55\n",
      "E\n"
     ]
    }
   ],
   "source": [
    "#如果输入的成绩在90分以上（含90分）输出A；\n",
    "# 80分-90分（不含90分）输出B；\n",
    "# 70分-80分（不含80分）输出C；\n",
    "# 60分-70分（不含70分）输出D；60分以下输出E。\n",
    "score = float(input('请输入一个数值：'))\n",
    "if score >=90:\n",
    "    print('A')\n",
    "elif score>=80:\n",
    "    print('B')\n",
    "elif score>=70:\n",
    "    print('C')\n",
    "elif score>=60:\n",
    "    print('D')\n",
    "else:\n",
    "    print('E')\n",
    "        \n",
    "              \n",
    "                    \n",
    "                    "
   ]
  },
  {
   "cell_type": "code",
   "execution_count": 40,
   "metadata": {},
   "outputs": [
    {
     "name": "stdout",
     "output_type": "stream",
     "text": [
      "请输入第一条边：5\n",
      "请输入第二条边：8\n",
      "请输入第三条边：8\n",
      "周长为21.000000：\n",
      "面积为18.998355：\n"
     ]
    }
   ],
   "source": [
    "#三条边a,b,c，满足 1 个条件就可以构成三角形,下面两个条件是等价的\n",
    "#任意两边之和大于第三边\n",
    "#任意两边之差小于第三边\n",
    "#计算面积使用的是海伦公式\n",
    "a = float(input('请输入第一条边：'))\n",
    "b = float(input('请输入第二条边：'))\n",
    "c = float(input('请输入第三条边：'))\n",
    "\n",
    "if (a+b>c) and (a+c>b) and (c+b>a):\n",
    "    p = (a+b+c)/2\n",
    "    area = (p*(p-a)*(p-b)*(p-c))**0.5\n",
    "    print('周长为%f：'%(a+b+c))\n",
    "    print('面积为%f：'%area)\n",
    "else:\n",
    "    print(\"不能构成三角形\")"
   ]
  },
  {
   "cell_type": "code",
   "execution_count": 37,
   "metadata": {},
   "outputs": [
    {
     "name": "stdout",
     "output_type": "stream",
     "text": [
      "10\n",
      "11\n",
      "和为11.000000\n"
     ]
    }
   ],
   "source": [
    "print(5+5)\n",
    "a =5\n",
    "b = 6\n",
    "print(a+b)\n",
    "print('和为%f'%(a+b))"
   ]
  },
  {
   "cell_type": "markdown",
   "metadata": {},
   "source": [
    "# Day2内容回顾\n",
    "- 基本概念\n",
    "    - 指令和程序，\n",
    "    - 变量和类型，int,float,str(chr,ord),\n",
    "    - 占位符\n",
    "        - %\n",
    "        - %.1f\n",
    "        - %9f\n",
    "    - 运算符\n",
    "        - 数值运算符\n",
    "        - 逻辑运算符\n",
    "            - and\n",
    "            - or\n",
    "        - 比较运算符\n",
    "            - 产生布尔值"
   ]
  },
  {
   "cell_type": "code",
   "execution_count": null,
   "metadata": {},
   "outputs": [],
   "source": []
  }
 ],
 "metadata": {
  "kernelspec": {
   "display_name": "Python 3",
   "language": "python",
   "name": "python3"
  },
  "language_info": {
   "codemirror_mode": {
    "name": "ipython",
    "version": 3
   },
   "file_extension": ".py",
   "mimetype": "text/x-python",
   "name": "python",
   "nbconvert_exporter": "python",
   "pygments_lexer": "ipython3",
   "version": "3.7.6"
  }
 },
 "nbformat": 4,
 "nbformat_minor": 4
}
