{
 "cells": [
  {
   "cell_type": "code",
   "execution_count": null,
   "id": "b8a6a031",
   "metadata": {},
   "outputs": [],
   "source": [
    "学习方法\n",
    "浏览实操部分，完成课后作业"
   ]
  },
  {
   "cell_type": "code",
   "execution_count": 6,
   "id": "16ecf923",
   "metadata": {},
   "outputs": [],
   "source": [
    "#绘制一个电脑\n",
    "from turtle import *\n",
    "turtle.pensize(4)\n",
    "turtle.color(\"black\")\n",
    "\n",
    "pendown()\n",
    "turtle.forward(200)\n",
    "turtle.right(90)\n",
    "turtle.forward(150)\n",
    "turtle.right(90)\n",
    "turtle.forward(200)\n",
    "turtle.right(90)\n",
    "turtle.forward(150)\n",
    "\n",
    "\n",
    "turtle.mainloop()"
   ]
  },
  {
   "cell_type": "code",
   "execution_count": null,
   "id": "4a62b0a0",
   "metadata": {},
   "outputs": [],
   "source": [
    "#绘制一个罗小黑\n",
    "#难点，如何绘制曲线？圆和椭圆\n",
    "from turtle import * #这样就可以导入所有模块，缺点是？\n",
    "\n",
    "def mouth(x,y)\n",
    "\n",
    "\n"
   ]
  }
 ],
 "metadata": {
  "kernelspec": {
   "display_name": "Python 3",
   "language": "python",
   "name": "python3"
  },
  "language_info": {
   "codemirror_mode": {
    "name": "ipython",
    "version": 3
   },
   "file_extension": ".py",
   "mimetype": "text/x-python",
   "name": "python",
   "nbconvert_exporter": "python",
   "pygments_lexer": "ipython3",
   "version": "3.8.8"
  }
 },
 "nbformat": 4,
 "nbformat_minor": 5
}
