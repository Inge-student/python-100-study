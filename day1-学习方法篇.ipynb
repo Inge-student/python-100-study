{
 "cells": [
  {
   "cell_type": "markdown",
   "id": "e1a9fbc9",
   "metadata": {},
   "source": [
    "# 学习方法\n",
    "1,浏览实操部分，完成课后作业,比对原答案\n",
    "2,思考知识点的典型运用场景\n",
    "3，不贪多，遇到知识点有多个表达的，只记一个\n",
    "4，不玩手机就是休息\n",
    "\n"
   ]
  },
  {
   "cell_type": "markdown",
   "id": "8252c71f",
   "metadata": {},
   "source": [
    "## 语法学习\n",
    "###数据类型\n",
    "有5种数据类型，其中字符串是以单引号或双引号括起来的任意文本，python中并不区分单引号和双引号\n",
    "数据类型函数为int().float(),str(),chr(),ord(),而type(a)是查看数据的类型\n",
    "运算符的先后顺序和各种用法\n",
    "使用快捷键\n",
    "M :单元转入markdown状态\n",
    "R : 单元转入raw状态\n",
    "Y : 单元转入代码状态\n",
    "Ctrl-Enter : 运行本单元\n",
    "Alt-Enter : 运行本单元，在其下插入新单元\n",
    "L : 转换行号\n",
    "H : 显示快捷键帮助\n",
    "I,I : 中断Notebook内核\n",
    "0,0 : 重启Notebook内核"
   ]
  },
  {
   "cell_type": "code",
   "execution_count": 47,
   "id": "00211b2e",
   "metadata": {},
   "outputs": [
    {
     "name": "stdout",
     "output_type": "stream",
     "text": [
      "5\n",
      "#\n"
     ]
    }
   ],
   "source": [
    "a=5\n",
    "print(str(a))\n",
    "print(chr(35))"
   ]
  },
  {
   "cell_type": "code",
   "execution_count": 29,
   "id": "bd34583f",
   "metadata": {},
   "outputs": [],
   "source": [
    "## 绘制一个电脑\n",
    "from turtle import *\n",
    "turtle.pensize(4)\n",
    "turtle.color(\"black\")\n",
    "\n",
    "pendown()\n",
    "turtle.forward(200)\n",
    "turtle.right(90)\n",
    "turtle.forward(150)\n",
    "turtle.right(90)\n",
    "turtle.forward(200)\n",
    "turtle.right(90)\n",
    "turtle.forward(150)\n",
    "\n",
    "\n",
    "turtle.mainloop()"
   ]
  },
  {
   "cell_type": "code",
   "execution_count": 30,
   "id": "8a550fe8",
   "metadata": {},
   "outputs": [
    {
     "ename": "SyntaxError",
     "evalue": "invalid syntax (<ipython-input-30-a015f6eb9daf>, line 5)",
     "output_type": "error",
     "traceback": [
      "\u001b[1;36m  File \u001b[1;32m\"<ipython-input-30-a015f6eb9daf>\"\u001b[1;36m, line \u001b[1;32m5\u001b[0m\n\u001b[1;33m    def mouth(x,y)\u001b[0m\n\u001b[1;37m                  ^\u001b[0m\n\u001b[1;31mSyntaxError\u001b[0m\u001b[1;31m:\u001b[0m invalid syntax\n"
     ]
    }
   ],
   "source": [
    "## 绘制一个罗小黑\n",
    "#难点，如何绘制曲线？圆和椭圆\n",
    "from turtle import * #这样就可以导入所有模块，缺点是？\n",
    "\n",
    "def mouth(x,y)\n",
    "\n",
    "\n"
   ]
  },
  {
   "cell_type": "code",
   "execution_count": 49,
   "id": "67c7c72a",
   "metadata": {},
   "outputs": [
    {
     "name": "stdout",
     "output_type": "stream",
     "text": [
      "请输入目前的华氏温度：98\n",
      "36.666666666666664\n",
      "98\n",
      "98.000000华氏温度=36.666667摄氏温度\n"
     ]
    },
    {
     "data": {
      "text/plain": [
       "'和标准答案的差异\\n在使用print函数输出时，也可以对字符串内容进行格式化处理,%1.f,%d,%s依次会被float,int,str类型数值替换\\n89.4,31.8\\n89,32\\n计算机进行计算可真麻烦，int,float还有进制转换,而且计算机会主动默认根据输入输出小数位数\\n'"
      ]
     },
     "execution_count": 49,
     "metadata": {},
     "output_type": "execute_result"
    }
   ],
   "source": [
    "## 华氏温度转换为摄氏温度。\n",
    "#提示：华氏温度到摄氏温度的转换公式为：$C=(F - 32) \\div 1.8$。\n",
    "\n",
    "a=input(\"请输入目前的华氏温度：\")\n",
    "b=(float(a)-32)/1.8\n",
    "print(b)\n",
    "\n",
    "f=float(input())\n",
    "c=(f-32)/1.8\n",
    "print('%f华氏温度=%f摄氏温度'%(f,c))\n",
    "\n",
    "'''和标准答案的差异\n",
    "在使用print函数输出时，也可以对字符串内容进行格式化处理,%f,%d,%s依次会被float,int,str类型数值替换\n",
    "%%表示百分号（因为百分号代表了占位符，所以带占位符的字符串中要表示百分号必须写成%%\n",
    "89.4,31.8\n",
    "89,32\n",
    "计算机进行计算可真麻烦，int,float还有进制转换,而且计算机会主动默认根据输入输出小数位数\n",
    "'''"
   ]
  },
  {
   "cell_type": "code",
   "execution_count": 32,
   "id": "7df96674",
   "metadata": {},
   "outputs": [
    {
     "name": "stdout",
     "output_type": "stream",
     "text": [
      "请输入圆的半径长4\n",
      "25是圆的周长,50是原的面积\n",
      "2.0\n"
     ]
    }
   ],
   "source": [
    "## 输入圆的半径计算计算周长和面积。\n",
    "a=float(input(\"请输入圆的半径长\"))\n",
    "b=2*a*3.1416\n",
    "c=3.1416*a*a\n",
    "print('%2.f是圆的周长,%2.f是原的面积'%(b,c))\n",
    "d=5.3//2\n",
    "print(d)"
   ]
  },
  {
   "cell_type": "code",
   "execution_count": 33,
   "id": "b7fe956d",
   "metadata": {},
   "outputs": [
    {
     "name": "stdout",
     "output_type": "stream",
     "text": [
      "请输入一个整数：2008\n",
      "2008是闰年\n",
      "2008 True\n"
     ]
    },
    {
     "data": {
      "text/plain": [
       "'\\n比较运算符!=会产生布尔值，而逻辑运算符and和or会对这些布尔值进行组合，最终也是得到一个布尔值，闰年输出True，平年输出False。\\n'"
      ]
     },
     "execution_count": 33,
     "metadata": {},
     "output_type": "execute_result"
    }
   ],
   "source": [
    "## 输入年份判断是不是闰年。\n",
    "a=int(input(\"请输入一个整数：\"))\n",
    "if a%4==0 and a%100!=0\\\n",
    "or a%400==0:\n",
    "    print('%d是闰年'%a)\n",
    "is_leap=a%4==0 and a%100!=0\\\n",
    "or a%400==0\n",
    "print(a,is_leap)\n",
    "'''\n",
    "比较运算符!=会产生布尔值，而逻辑运算符and和or会对这些布尔值进行组合，最终也是得到一个布尔值，闰年输出True，平年输出False。\n",
    "'''"
   ]
  },
  {
   "cell_type": "code",
   "execution_count": 34,
   "id": "9b7f9e8c",
   "metadata": {},
   "outputs": [
    {
     "name": "stdout",
     "output_type": "stream",
     "text": [
      "333\n",
      "309\n",
      "3852\n",
      "26.75\n"
     ]
    }
   ],
   "source": [
    "a = 321\n",
    "b = 12\n",
    "print(a + b)    # 333\n",
    "print(a - b)    # 309\n",
    "print(a * b)    # 3852\n",
    "print(a / b)    # 26.75"
   ]
  }
 ],
 "metadata": {
  "kernelspec": {
   "display_name": "Python 3",
   "language": "python",
   "name": "python3"
  },
  "language_info": {
   "codemirror_mode": {
    "name": "ipython",
    "version": 3
   },
   "file_extension": ".py",
   "mimetype": "text/x-python",
   "name": "python",
   "nbconvert_exporter": "python",
   "pygments_lexer": "ipython3",
   "version": "3.8.8"
  }
 },
 "nbformat": 4,
 "nbformat_minor": 5
}
