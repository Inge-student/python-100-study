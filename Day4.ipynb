{
 "cells": [
  {
   "cell_type": "markdown",
   "metadata": {},
   "source": [
    "# 循环结构\n",
    "- for - in\n",
    "    - 明确的知道循环执行的次数\n",
    "        - range(100, 0, -2)：可以用来产生100到1的偶数，其中-2是步长，即每次数字递减的值。\n",
    "    - 要对一个容器进行迭代\n",
    "- while\n",
    "    - 构造不知道具体循环次数的循环结构\n",
    "    - "
   ]
  },
  {
   "cell_type": "markdown",
   "metadata": {},
   "source": [
    "# 问题收集\n",
    "- 在python中使用函数之前需要了解一下模块的含义。\n",
    "   - 模块是一个包含所有定义的函数和变量的文件，模块可以被别的程序引入，以使用该模块中的函数等功能。\n",
    "\n",
    "    - 因为sqrt函数在math模块中，所以先得导入math模块，导入后才能使用math模块中sqrt的函数。\n",
    "    - 导入模块用法：import 模块\n",
    "    - 使用模块中函数用法：模块●函数 \n",
    "- 判断一个数是不是素数\n",
    "- 遍历循环套遍历循环，是什么意思？\n",
    "    - 就是大遍历循环初始值开始运行，然后就是小遍历循环开始运行，且要等小遍历循环运行完才能进入下一步\n",
    "    - for _ in range()\n",
    "        - _ 只是一个占位符，只在乎遍历次数 range(n) 就是遍历n次\n",
    "    - end = '' 为末尾end传递一个空字符串，这样print函数不会在字符串末尾添加一个换行符，而是添加一个空字符串。\n",
    "    - print（）函数里面是默认换行的，具体换行参数是end=\"\\n\""
   ]
  },
  {
   "cell_type": "code",
   "execution_count": 7,
   "metadata": {},
   "outputs": [
    {
     "name": "stdout",
     "output_type": "stream",
     "text": [
      "count1\n",
      "0\n",
      "count1\n",
      "1\n",
      "count2\n",
      "0\n",
      "count2\n",
      "1\n"
     ]
    }
   ],
   "source": [
    "\n",
    "for _ in range(2):\n",
    "    print('count1')\n",
    "    print(_)\n",
    "for each in range(2):\n",
    "    print('count2')\n",
    "    print(each)"
   ]
  },
  {
   "cell_type": "code",
   "execution_count": 9,
   "metadata": {},
   "outputs": [
    {
     "name": "stdout",
     "output_type": "stream",
     "text": [
      "35642\n",
      "5050\n",
      "[100, 98, 96, 94, 92, 90, 88, 86, 84, 82, 80, 78, 76, 74, 72, 70, 68, 66, 64, 62, 60, 58, 56, 54, 52, 50, 48, 46, 44, 42, 40, 38, 36, 34, 32, 30, 28, 26, 24, 22, 20, 18, 16, 14, 12, 10, 8, 6, 4, 2]\n"
     ]
    }
   ],
   "source": [
    "#计算 1-100求和\n",
    "for i in range(2,101):\n",
    "    a += i\n",
    "print(a)\n",
    "#a = 2\n",
    "#a = 2+3\n",
    "#a = 2+3+4\n",
    "#表明上看，这里只差1，但其实因为没有对a 的初始值做规定，\n",
    "\n",
    "sum = 0\n",
    "for x in range(101):\n",
    "    sum +=x #+=  的理解，\n",
    "print(sum)\n",
    "\n",
    "b = []\n",
    "for i in range(100,0,-2):\n",
    "    b.append(i)\n",
    "print(b)"
   ]
  },
  {
   "cell_type": "code",
   "execution_count": 17,
   "metadata": {},
   "outputs": [
    {
     "name": "stdout",
     "output_type": "stream",
     "text": [
      "2550\n",
      "1719\n",
      "2550\n",
      "2550\n"
     ]
    }
   ],
   "source": [
    "#1-100 间偶数的求和\n",
    "aa = 0\n",
    "for i in range(100,0,-2):\n",
    "    aa += i\n",
    "print(aa)\n",
    "\n",
    "#失败\n",
    "bb = 2\n",
    "for i in range(1,101,3):\n",
    "    bb +=i\n",
    "#     print(i)\n",
    "print(bb)\n",
    "\n",
    "cc = 0\n",
    "for i in range(2,101,2):\n",
    "    cc +=i\n",
    "print(2550)\n",
    "\n",
    "#使用分支结构求和\n",
    "sum = 0\n",
    "for i in range(101):\n",
    "    if i % 2==0:\n",
    "        sum +=i\n",
    "print(sum)"
   ]
  },
  {
   "cell_type": "code",
   "execution_count": null,
   "metadata": {},
   "outputs": [],
   "source": [
    "#猜1-100之间的随机数字\n",
    "import random\n",
    "\n",
    "answer = random.randint(1,100)#这里包头不包尾原则不适用\n",
    "counter = 0\n",
    "while True:\n",
    "    counter +=1\n",
    "    number = int(input('请输入：'))\n",
    "    if number<answer:\n",
    "        print('再大一点')\n",
    "    elif number>answer:\n",
    "        print('小一点')\n",
    "    else:\n",
    "        print('猜对了')\n",
    "        break\n",
    "print('你总共猜了%d次，：'%counter)\n",
    "if counter>7:\n",
    "    print('你的智商明显不足')"
   ]
  },
  {
   "cell_type": "code",
   "execution_count": 25,
   "metadata": {
    "collapsed": true
   },
   "outputs": [
    {
     "name": "stdout",
     "output_type": "stream",
     "text": [
      "1*1=1\n",
      "2*1=2\n",
      "2*2=4\n",
      "3*1=3\n",
      "3*2=6\n",
      "3*3=9\n",
      "4*1=4\n",
      "4*2=8\n",
      "4*3=12\n",
      "4*4=16\n",
      "5*1=5\n",
      "5*2=10\n",
      "5*3=15\n",
      "5*4=20\n",
      "5*5=25\n",
      "6*1=6\n",
      "6*2=12\n",
      "6*3=18\n",
      "6*4=24\n",
      "6*5=30\n",
      "6*6=36\n",
      "7*1=7\n",
      "7*2=14\n",
      "7*3=21\n",
      "7*4=28\n",
      "7*5=35\n",
      "7*6=42\n",
      "7*7=49\n",
      "8*1=8\n",
      "8*2=16\n",
      "8*3=24\n",
      "8*4=32\n",
      "8*5=40\n",
      "8*6=48\n",
      "8*7=56\n",
      "8*8=64\n",
      "9*1=9\n",
      "9*2=18\n",
      "9*3=27\n",
      "9*4=36\n",
      "9*5=45\n",
      "9*6=54\n",
      "9*7=63\n",
      "9*8=72\n",
      "9*9=81\n",
      "1*1=1\t\n",
      "2*1=2\t2*2=4\t\n",
      "3*1=3\t3*2=6\t3*3=9\t\n",
      "4*1=4\t4*2=8\t4*3=12\t4*4=16\t\n",
      "5*1=5\t5*2=10\t5*3=15\t5*4=20\t5*5=25\t\n",
      "6*1=6\t6*2=12\t6*3=18\t6*4=24\t6*5=30\t6*6=36\t\n",
      "7*1=7\t7*2=14\t7*3=21\t7*4=28\t7*5=35\t7*6=42\t7*7=49\t\n",
      "8*1=8\t8*2=16\t8*3=24\t8*4=32\t8*5=40\t8*6=48\t8*7=56\t8*8=64\t\n",
      "9*1=9\t9*2=18\t9*3=27\t9*4=36\t9*5=45\t9*6=54\t9*7=63\t9*8=72\t9*9=81\t\n"
     ]
    }
   ],
   "source": [
    "#输出九九乘法表\n",
    "a = 1\n",
    "while True:\n",
    "    \n",
    "    for i in range(1,a+1):\n",
    "        print('%d*%d=%d'%(a,i,a*i))\n",
    "    a +=1\n",
    "    if a >=10:\n",
    "        break\n",
    "\n",
    "#让九九乘法表让顺序输出       \n",
    "for i in range(1,10):\n",
    "    for j in range(1,i+1):\n",
    "        print('%d*%d=%d'%(i,j,i*j),end='\\t')\n",
    "    print()"
   ]
  },
  {
   "cell_type": "code",
   "execution_count": 6,
   "metadata": {},
   "outputs": [
    {
     "name": "stdout",
     "output_type": "stream",
     "text": [
      "请输入一个正整数：38\n",
      "38不是素数\n"
     ]
    }
   ],
   "source": [
    "#输入一个正数判断是不是素数\n",
    "#素数是指只能被 1和自身整除的大于1的整数\n",
    "'''\n",
    "a = int(input('请输入一个整数：'))\n",
    "from math import sqrt\n",
    "\n",
    "if a<=1:\n",
    "    print('请输入 大一1的数')\n",
    "\n",
    "else:    \n",
    "    for i in range(2,a):\n",
    "        if a%i != 0:\n",
    "            a = True  #只要找到一个不能被整数的数就输出\n",
    "            break\n",
    "    print(a,'这是一个素数')    \n",
    "    '''\n",
    "from math import sqrt\n",
    "num = int(input('请输入一个正整数：'))\n",
    "end = int(sqrt(num))\n",
    "is_prime = True\n",
    "for x in range(2,end+1):\n",
    "    if num%x == 0:\n",
    "        is_prime = False#只要能找到一个能被整除的数，就能判断这不是一个素数\n",
    "        break\n",
    "if is_prime and num!= 1:\n",
    "    print('%d是素数'%num)\n",
    "else:\n",
    "    print('%d不是素数'%num)\n",
    "#今天接触到的很多if 条件判断句，都没有else,elif。\n"
   ]
  },
  {
   "cell_type": "code",
   "execution_count": 9,
   "metadata": {},
   "outputs": [
    {
     "name": "stdout",
     "output_type": "stream",
     "text": [
      "请输入一个正整数：48\n",
      "请输入一个正整数：6\n",
      "6和48的最大公约数是6\n",
      "6和48的最小公倍数是288\n"
     ]
    }
   ],
   "source": [
    "#计算两个正整数的最大公约数和最小公倍数\n",
    "#两个数的最大公约数是两个数的公共因子中最大的那个数；\n",
    "# 两个数的最小公倍数则是能够同时被两个数整除的最小的那个数。\n",
    "x = int(input('请输入一个正整数：'))\n",
    "y = int(input('请输入一个正整数：'))\n",
    "\n",
    "if x>y :\n",
    "    x,y = y,x\n",
    "for i in range(x,0,-1):\n",
    "    if x%i == 0 and y%i == 0:\n",
    "        print('%d和%d的最大公约数是%d'%(x,y,i))    \n",
    "        print('%d和%d的最小公倍数是%d'%(x,y,x*y))\n",
    "        break\n",
    "#出错了，最小公倍数还需要判断"
   ]
  },
  {
   "cell_type": "code",
   "execution_count": 14,
   "metadata": {},
   "outputs": [
    {
     "name": "stdout",
     "output_type": "stream",
     "text": [
      "请输入行数：5\n",
      "*\n",
      "**\n",
      "***\n",
      "****\n",
      "*****\n",
      "    *\n",
      "   **\n",
      "  ***\n",
      " ****\n",
      "*****\n",
      "    *\n",
      "   ***\n",
      "  *****\n",
      " *******\n",
      "*********\n"
     ]
    }
   ],
   "source": [
    "#打印三角形图案\n",
    "row = int(input('请输入行数：'))\n",
    "for i in range(row):\n",
    "    for _ in range(i+1):\n",
    "        print('*',end = '')\n",
    "    print()\n",
    "    \n",
    "for i in range(row):\n",
    "    for j in range(row):\n",
    "        if j<row-i-1:\n",
    "            print(' ',end = '')\n",
    "        else:\n",
    "            print('*',end ='')\n",
    "    print()\n",
    "   \n",
    "\n",
    "for i in range(row):\n",
    "    for _ in range(row-i-1):\n",
    "        print(' ',end = '')\n",
    "    for _ in range(2*i+1):\n",
    "        print('*',end = '')\n",
    "    print()\n"
   ]
  },
  {
   "cell_type": "code",
   "execution_count": 13,
   "metadata": {},
   "outputs": [
    {
     "name": "stdout",
     "output_type": "stream",
     "text": [
      "请输入行数：3\n",
      "count1\n",
      "count2\n",
      " count2\n",
      " count3\n",
      "*\n",
      "count1\n",
      "count2\n",
      " count3\n",
      "*count3\n",
      "*count3\n",
      "*\n",
      "count1\n",
      "count3\n",
      "*count3\n",
      "*count3\n",
      "*count3\n",
      "*count3\n",
      "*\n"
     ]
    }
   ],
   "source": [
    "row = int(input('请输入行数：'))\n",
    "for i in range(row):\n",
    "    print('count1')\n",
    "    for _ in range(row-i-1):\n",
    "        print('count2')\n",
    "        print(' ',end = '')\n",
    "    for _ in range(2*i+1):\n",
    "        print('count3')\n",
    "        print('*',end = '')\n",
    "    print()"
   ]
  },
  {
   "cell_type": "code",
   "execution_count": 15,
   "metadata": {},
   "outputs": [
    {
     "name": "stdout",
     "output_type": "stream",
     "text": [
      "请输入行数：5\n",
      "***************"
     ]
    }
   ],
   "source": [
    "row = int(input('请输入行数：'))\n",
    "for i in range(row):\n",
    "    for _ in range(i+1):\n",
    "        print('*',end = '')\n",
    "#     print()#如果没有这个大遍历循环中的print()，所有打印内容就不会自动换行"
   ]
  },
  {
   "cell_type": "code",
   "execution_count": 16,
   "metadata": {},
   "outputs": [
    {
     "name": "stdout",
     "output_type": "stream",
     "text": [
      "请输入行数：5\n",
      "*\n",
      "\n",
      "*\n",
      "*\n",
      "\n",
      "*\n",
      "*\n",
      "*\n",
      "\n",
      "*\n",
      "*\n",
      "*\n",
      "*\n",
      "\n",
      "*\n",
      "*\n",
      "*\n",
      "*\n",
      "*\n",
      "\n"
     ]
    }
   ],
   "source": [
    "row = int(input('请输入行数：'))\n",
    "for i in range(row):\n",
    "    for _ in range(i+1):\n",
    "        print('*')#如果没有end = ''，这个遍历小循环中打印的图案会自己换行\n",
    "    print()"
   ]
  },
  {
   "cell_type": "code",
   "execution_count": 17,
   "metadata": {},
   "outputs": [
    {
     "name": "stdout",
     "output_type": "stream",
     "text": [
      "请输入行数：5\n",
      "*\n",
      "*\n",
      "*\n",
      "*\n",
      "*\n",
      "*\n",
      "*\n",
      "*\n",
      "*\n",
      "*\n",
      "*\n",
      "*\n",
      "*\n",
      "*\n",
      "*\n"
     ]
    }
   ],
   "source": [
    "row = int(input('请输入行数：'))\n",
    "for i in range(row):\n",
    "    for _ in range(i+1):\n",
    "        print('*')\n",
    "   "
   ]
  }
 ],
 "metadata": {
  "kernelspec": {
   "display_name": "Python 3",
   "language": "python",
   "name": "python3"
  },
  "language_info": {
   "codemirror_mode": {
    "name": "ipython",
    "version": 3
   },
   "file_extension": ".py",
   "mimetype": "text/x-python",
   "name": "python",
   "nbconvert_exporter": "python",
   "pygments_lexer": "ipython3",
   "version": "3.7.6"
  }
 },
 "nbformat": 4,
 "nbformat_minor": 4
}
