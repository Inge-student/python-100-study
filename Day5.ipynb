{
 "cells": [
  {
   "cell_type": "markdown",
   "metadata": {},
   "source": [
    "# 构建程序逻辑\n",
    "- 再学习python 的核心语言元素（变量，类型，运算符，表达式，分支结构，循环结构）后，必须要做的一件事就是尝试用所学知识解决生活中遇到的问题。\n",
    "    - 就是把人类自然语言描述的算法（解决问题的方法和步骤）翻译成python代码的能力。\n",
    "- reverse是list的内置方法，reversed是个函数\n",
    "    - reversed，在经过reversed()的作用之后，返回的是一个把序列值经过反转之后的迭代器，所以，需要通过遍历，或者List,或者next()等方法，获取作用后的值；\n",
    "    - "
   ]
  },
  {
   "cell_type": "code",
   "execution_count": 15,
   "metadata": {},
   "outputs": [
    {
     "name": "stdout",
     "output_type": "stream",
     "text": [
      "请输入一个正整数：1\n",
      "请输入一个正整数：5\n",
      "请输入一个正整数：4\n",
      "154 不是水仙花数\n",
      "153\n",
      "370\n",
      "371\n",
      "407\n"
     ]
    }
   ],
   "source": [
    "#寻找水仙花数\n",
    "#水仙花数是一个3位数，该数字每个位上数字的立方之和正好等于它本身\n",
    "#尝试根据它的定义来，但是失败了无效语法.那是因为if 中只能赋值等于\n",
    "#第一种方法验证某个值是不是水仙花数\n",
    "a = int(input('请输入一个正整数：'))\n",
    "b = int(input('请输入一个正整数：'))\n",
    "c = int(input('请输入一个正整数：'))\n",
    "\n",
    "num = a*100+b*10+c\n",
    "if (a**3+b**3+c**3 == num):\n",
    "    print('%d%d%d是水仙花数'%(a,b,c))\n",
    "else:\n",
    "    print('%d%d%d 不是水仙花数'%(a,b,c))\n",
    "\n",
    "#第二种方法\n",
    "for num in range(100,1000):\n",
    "    low = num%10\n",
    "    mid = num//10%10\n",
    "    high = num//100\n",
    "    if low**3+mid**3+high**3 == num:\n",
    "        print(num)"
   ]
  },
  {
   "cell_type": "code",
   "execution_count": 23,
   "metadata": {},
   "outputs": [
    {
     "name": "stdout",
     "output_type": "stream",
     "text": [
      "请输入一个正整数：123\n",
      "3\n",
      "32\n",
      "321\n"
     ]
    }
   ],
   "source": [
    "#实现正整数的反转,例如将12345变成54321\n",
    "num = int(input('请输入一个正整数：'))\n",
    "#你怎么判断这个正整数有几位呢？\n",
    "reversed_num = 0\n",
    "\n",
    "while num>0:\n",
    "    reversed_num = reversed_num*10+num%10\n",
    "    num//=10\n",
    "    print(reversed_num)\n"
   ]
  },
  {
   "cell_type": "code",
   "execution_count": 26,
   "metadata": {},
   "outputs": [
    {
     "name": "stdout",
     "output_type": "stream",
     "text": [
      "可以买公鸡0，母鸡25，小鸡75\n",
      "可以买公鸡4，母鸡18，小鸡78\n",
      "可以买公鸡8，母鸡11，小鸡81\n",
      "可以买公鸡12，母鸡4，小鸡84\n"
     ]
    }
   ],
   "source": [
    "#公鸡5元一只，母鸡3元一只，小鸡1元三只，\n",
    "# 用100块钱买一百只鸡，问公鸡、母鸡、小鸡各有多少只？\n",
    "#在数学中是列2 个方程解决这个问题的，那这里就需要引入三个变量，2个方程用if解决\n",
    "#但是abc三个变量如何引入？ python中\n",
    "for a in range(0,21):\n",
    "    for b in range(0,35):\n",
    "        c = 100-a-b\n",
    "        if 5*a+3*b+c/3==100:\n",
    "            print('可以买公鸡%d，母鸡%d，小鸡%d'%(a,b,c))"
   ]
  },
  {
   "cell_type": "code",
   "execution_count": 40,
   "metadata": {},
   "outputs": [
    {
     "name": "stdout",
     "output_type": "stream",
     "text": [
      "庄家胜\n"
     ]
    }
   ],
   "source": [
    "#CRAPS赌博游戏。\n",
    "#玩家第一次摇骰子如果摇出了7点或11点，玩家胜；\n",
    "# 玩家第一次如果摇出2点、3点或12点，庄家胜；\n",
    "# 其他点数玩家继续摇骰子，如果玩家摇出了7点，庄家胜；\n",
    "# 如果玩家摇出了第一次摇的点数，玩家胜；\n",
    "# 其他点数，玩家继续要骰子，直到分出胜负。\n",
    "\n",
    "#要引入 2 个1-6 共12个数排列组合\n",
    "#玩家摇色子，庄家不用摇，并且只有一个玩家\n",
    "#并不会把列表中的数字挨个比较\n",
    "#进行到那一轮可以确定一定会分出胜负\n",
    "count = 0\n",
    "aa = [2,3,12]\n",
    "bb = [7,11]\n",
    "from random import randint\n",
    "first = randint(1,6)+randint(1,6)\n",
    "\n",
    "if first==2 :\n",
    "    print('庄家胜')\n",
    "#     break不需要，因为if判断条件中 默认每一个条件都是独立的，因此执行一个分支后就不会再执行其它分支了\n",
    "elif first == 3:\n",
    "    print('庄家胜')\n",
    "#     break\n",
    "elif first == 12:\n",
    "    print('庄家胜')\n",
    "#     break\n",
    "elif first == 7:\n",
    "    print('玩家胜')\n",
    "#     break\n",
    "elif first == 11:\n",
    "    print('玩家胜')\n",
    "#     break\n",
    "# elif first == second:  不能这样，因为有一种情况下第一次并没有结束的情况下和第二次判断条件符合，\n",
    "else:\n",
    "    for _ in range(1,7):\n",
    "        first_after = randint(1,6)+randint(1,6)\n",
    "        if first_after == 7:\n",
    "            print('庄家胜')\n",
    "            break\n",
    "        elif first_after == first:\n",
    "            print('玩家胜')\n",
    "            break\n",
    "#         else:\n",
    "#             countine也不需要，因为遍历会自动进行，直到遍历完所有元素\n",
    "      "
   ]
  },
  {
   "cell_type": "code",
   "execution_count": null,
   "metadata": {},
   "outputs": [],
   "source": [
    "#我们设定玩家开始游戏时有1000元的赌注\n",
    "# 游戏结束的条件是玩家输光所有的赌注\n",
    "from random import randint\n",
    "money = 1000\n",
    "while monry>0:\n",
    "    print('你的总资产为：',money)\n",
    "    needs_go_on = False\n",
    "    while True:\n",
    "        debt = int(input('请下注：'))\n",
    "        if 0<debt<=money:\n",
    "            break\n",
    "    first = randint"
   ]
  },
  {
   "cell_type": "code",
   "execution_count": null,
   "metadata": {},
   "outputs": [],
   "source": [
    "#生成斐波那契数列的前20个数"
   ]
  },
  {
   "cell_type": "code",
   "execution_count": null,
   "metadata": {},
   "outputs": [],
   "source": []
  },
  {
   "cell_type": "code",
   "execution_count": null,
   "metadata": {},
   "outputs": [],
   "source": []
  }
 ],
 "metadata": {
  "kernelspec": {
   "display_name": "Python 3",
   "language": "python",
   "name": "python3"
  },
  "language_info": {
   "codemirror_mode": {
    "name": "ipython",
    "version": 3
   },
   "file_extension": ".py",
   "mimetype": "text/x-python",
   "name": "python",
   "nbconvert_exporter": "python",
   "pygments_lexer": "ipython3",
   "version": "3.7.6"
  }
 },
 "nbformat": 4,
 "nbformat_minor": 4
}
